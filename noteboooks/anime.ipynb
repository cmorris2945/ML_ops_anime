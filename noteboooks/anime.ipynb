{
 "cells": [
  {
   "cell_type": "code",
   "execution_count": null,
   "id": "b45c4e7b",
   "metadata": {},
   "outputs": [],
   "source": []
  },
  {
   "cell_type": "code",
   "execution_count": 2,
   "id": "066810f8",
   "metadata": {},
   "outputs": [
    {
     "name": "stderr",
     "output_type": "stream",
     "text": [
      "c:\\Users\\chris' pc\\OneDrive\\Desktop\\ML_ops_anime\\venv\\Lib\\site-packages\\google\\protobuf\\runtime_version.py:98: UserWarning: Protobuf gencode version 5.28.3 is exactly one major version older than the runtime version 6.31.1 at tensorflow/core/framework/attr_value.proto. Please update the gencode to avoid compatibility violations in the next runtime release.\n",
      "  warnings.warn(\n",
      "c:\\Users\\chris' pc\\OneDrive\\Desktop\\ML_ops_anime\\venv\\Lib\\site-packages\\google\\protobuf\\runtime_version.py:98: UserWarning: Protobuf gencode version 5.28.3 is exactly one major version older than the runtime version 6.31.1 at tensorflow/core/framework/tensor.proto. Please update the gencode to avoid compatibility violations in the next runtime release.\n",
      "  warnings.warn(\n",
      "c:\\Users\\chris' pc\\OneDrive\\Desktop\\ML_ops_anime\\venv\\Lib\\site-packages\\google\\protobuf\\runtime_version.py:98: UserWarning: Protobuf gencode version 5.28.3 is exactly one major version older than the runtime version 6.31.1 at tensorflow/core/framework/resource_handle.proto. Please update the gencode to avoid compatibility violations in the next runtime release.\n",
      "  warnings.warn(\n",
      "c:\\Users\\chris' pc\\OneDrive\\Desktop\\ML_ops_anime\\venv\\Lib\\site-packages\\google\\protobuf\\runtime_version.py:98: UserWarning: Protobuf gencode version 5.28.3 is exactly one major version older than the runtime version 6.31.1 at tensorflow/core/framework/tensor_shape.proto. Please update the gencode to avoid compatibility violations in the next runtime release.\n",
      "  warnings.warn(\n",
      "c:\\Users\\chris' pc\\OneDrive\\Desktop\\ML_ops_anime\\venv\\Lib\\site-packages\\google\\protobuf\\runtime_version.py:98: UserWarning: Protobuf gencode version 5.28.3 is exactly one major version older than the runtime version 6.31.1 at tensorflow/core/framework/types.proto. Please update the gencode to avoid compatibility violations in the next runtime release.\n",
      "  warnings.warn(\n",
      "c:\\Users\\chris' pc\\OneDrive\\Desktop\\ML_ops_anime\\venv\\Lib\\site-packages\\google\\protobuf\\runtime_version.py:98: UserWarning: Protobuf gencode version 5.28.3 is exactly one major version older than the runtime version 6.31.1 at tensorflow/core/framework/full_type.proto. Please update the gencode to avoid compatibility violations in the next runtime release.\n",
      "  warnings.warn(\n",
      "c:\\Users\\chris' pc\\OneDrive\\Desktop\\ML_ops_anime\\venv\\Lib\\site-packages\\google\\protobuf\\runtime_version.py:98: UserWarning: Protobuf gencode version 5.28.3 is exactly one major version older than the runtime version 6.31.1 at tensorflow/core/framework/function.proto. Please update the gencode to avoid compatibility violations in the next runtime release.\n",
      "  warnings.warn(\n",
      "c:\\Users\\chris' pc\\OneDrive\\Desktop\\ML_ops_anime\\venv\\Lib\\site-packages\\google\\protobuf\\runtime_version.py:98: UserWarning: Protobuf gencode version 5.28.3 is exactly one major version older than the runtime version 6.31.1 at tensorflow/core/framework/node_def.proto. Please update the gencode to avoid compatibility violations in the next runtime release.\n",
      "  warnings.warn(\n",
      "c:\\Users\\chris' pc\\OneDrive\\Desktop\\ML_ops_anime\\venv\\Lib\\site-packages\\google\\protobuf\\runtime_version.py:98: UserWarning: Protobuf gencode version 5.28.3 is exactly one major version older than the runtime version 6.31.1 at tensorflow/core/framework/op_def.proto. Please update the gencode to avoid compatibility violations in the next runtime release.\n",
      "  warnings.warn(\n",
      "c:\\Users\\chris' pc\\OneDrive\\Desktop\\ML_ops_anime\\venv\\Lib\\site-packages\\google\\protobuf\\runtime_version.py:98: UserWarning: Protobuf gencode version 5.28.3 is exactly one major version older than the runtime version 6.31.1 at tensorflow/core/framework/graph.proto. Please update the gencode to avoid compatibility violations in the next runtime release.\n",
      "  warnings.warn(\n",
      "c:\\Users\\chris' pc\\OneDrive\\Desktop\\ML_ops_anime\\venv\\Lib\\site-packages\\google\\protobuf\\runtime_version.py:98: UserWarning: Protobuf gencode version 5.28.3 is exactly one major version older than the runtime version 6.31.1 at tensorflow/core/framework/graph_debug_info.proto. Please update the gencode to avoid compatibility violations in the next runtime release.\n",
      "  warnings.warn(\n",
      "c:\\Users\\chris' pc\\OneDrive\\Desktop\\ML_ops_anime\\venv\\Lib\\site-packages\\google\\protobuf\\runtime_version.py:98: UserWarning: Protobuf gencode version 5.28.3 is exactly one major version older than the runtime version 6.31.1 at tensorflow/core/framework/versions.proto. Please update the gencode to avoid compatibility violations in the next runtime release.\n",
      "  warnings.warn(\n",
      "c:\\Users\\chris' pc\\OneDrive\\Desktop\\ML_ops_anime\\venv\\Lib\\site-packages\\google\\protobuf\\runtime_version.py:98: UserWarning: Protobuf gencode version 5.28.3 is exactly one major version older than the runtime version 6.31.1 at tensorflow/core/protobuf/config.proto. Please update the gencode to avoid compatibility violations in the next runtime release.\n",
      "  warnings.warn(\n",
      "c:\\Users\\chris' pc\\OneDrive\\Desktop\\ML_ops_anime\\venv\\Lib\\site-packages\\google\\protobuf\\runtime_version.py:98: UserWarning: Protobuf gencode version 5.28.3 is exactly one major version older than the runtime version 6.31.1 at xla/tsl/protobuf/coordination_config.proto. Please update the gencode to avoid compatibility violations in the next runtime release.\n",
      "  warnings.warn(\n",
      "c:\\Users\\chris' pc\\OneDrive\\Desktop\\ML_ops_anime\\venv\\Lib\\site-packages\\google\\protobuf\\runtime_version.py:98: UserWarning: Protobuf gencode version 5.28.3 is exactly one major version older than the runtime version 6.31.1 at tensorflow/core/framework/cost_graph.proto. Please update the gencode to avoid compatibility violations in the next runtime release.\n",
      "  warnings.warn(\n",
      "c:\\Users\\chris' pc\\OneDrive\\Desktop\\ML_ops_anime\\venv\\Lib\\site-packages\\google\\protobuf\\runtime_version.py:98: UserWarning: Protobuf gencode version 5.28.3 is exactly one major version older than the runtime version 6.31.1 at tensorflow/core/framework/step_stats.proto. Please update the gencode to avoid compatibility violations in the next runtime release.\n",
      "  warnings.warn(\n",
      "c:\\Users\\chris' pc\\OneDrive\\Desktop\\ML_ops_anime\\venv\\Lib\\site-packages\\google\\protobuf\\runtime_version.py:98: UserWarning: Protobuf gencode version 5.28.3 is exactly one major version older than the runtime version 6.31.1 at tensorflow/core/framework/allocation_description.proto. Please update the gencode to avoid compatibility violations in the next runtime release.\n",
      "  warnings.warn(\n",
      "c:\\Users\\chris' pc\\OneDrive\\Desktop\\ML_ops_anime\\venv\\Lib\\site-packages\\google\\protobuf\\runtime_version.py:98: UserWarning: Protobuf gencode version 5.28.3 is exactly one major version older than the runtime version 6.31.1 at tensorflow/core/framework/tensor_description.proto. Please update the gencode to avoid compatibility violations in the next runtime release.\n",
      "  warnings.warn(\n",
      "c:\\Users\\chris' pc\\OneDrive\\Desktop\\ML_ops_anime\\venv\\Lib\\site-packages\\google\\protobuf\\runtime_version.py:98: UserWarning: Protobuf gencode version 5.28.3 is exactly one major version older than the runtime version 6.31.1 at tensorflow/core/protobuf/cluster.proto. Please update the gencode to avoid compatibility violations in the next runtime release.\n",
      "  warnings.warn(\n",
      "c:\\Users\\chris' pc\\OneDrive\\Desktop\\ML_ops_anime\\venv\\Lib\\site-packages\\google\\protobuf\\runtime_version.py:98: UserWarning: Protobuf gencode version 5.28.3 is exactly one major version older than the runtime version 6.31.1 at tensorflow/core/protobuf/debug.proto. Please update the gencode to avoid compatibility violations in the next runtime release.\n",
      "  warnings.warn(\n"
     ]
    }
   ],
   "source": [
    "import pandas as pd\n",
    "import numpy as np\n",
    "import matplotlib.pyplot as plt\n",
    "\n",
    "import tensorflow as tf\n",
    "from tensorflow.keras import layers\n",
    "from tensorflow.keras.models import Model\n",
    "from tensorflow.keras.optimizers import Adam\n",
    "from tensorflow.keras.layers import Activation, BatchNormalization, Input, Embedding, Dot, Dense, Flatten\n",
    "from tensorflow.keras.callbacks import ModelCheckpoint, LearningRateScheduler, EarlyStopping\n",
    "\n",
    "from wordcloud import WordCloud\n",
    "%matplotlib inline\n",
    "\n",
    "\n",
    "\n",
    "\n",
    "\n"
   ]
  },
  {
   "cell_type": "code",
   "execution_count": 3,
   "id": "ae73952e",
   "metadata": {},
   "outputs": [
    {
     "name": "stdout",
     "output_type": "stream",
     "text": [
      "Requirement already satisfied: matplotlib in c:\\users\\chris' pc\\onedrive\\desktop\\ml_ops_anime\\venv\\lib\\site-packages (3.10.5)\n",
      "Requirement already satisfied: wordcloud in c:\\users\\chris' pc\\onedrive\\desktop\\ml_ops_anime\\venv\\lib\\site-packages (1.9.4)\n",
      "Requirement already satisfied: contourpy>=1.0.1 in c:\\users\\chris' pc\\onedrive\\desktop\\ml_ops_anime\\venv\\lib\\site-packages (from matplotlib) (1.3.3)\n",
      "Requirement already satisfied: cycler>=0.10 in c:\\users\\chris' pc\\onedrive\\desktop\\ml_ops_anime\\venv\\lib\\site-packages (from matplotlib) (0.12.1)\n",
      "Requirement already satisfied: fonttools>=4.22.0 in c:\\users\\chris' pc\\onedrive\\desktop\\ml_ops_anime\\venv\\lib\\site-packages (from matplotlib) (4.59.0)\n",
      "Requirement already satisfied: kiwisolver>=1.3.1 in c:\\users\\chris' pc\\onedrive\\desktop\\ml_ops_anime\\venv\\lib\\site-packages (from matplotlib) (1.4.9)\n",
      "Requirement already satisfied: numpy>=1.23 in c:\\users\\chris' pc\\onedrive\\desktop\\ml_ops_anime\\venv\\lib\\site-packages (from matplotlib) (2.3.2)\n",
      "Requirement already satisfied: packaging>=20.0 in c:\\users\\chris' pc\\onedrive\\desktop\\ml_ops_anime\\venv\\lib\\site-packages (from matplotlib) (25.0)\n",
      "Requirement already satisfied: pillow>=8 in c:\\users\\chris' pc\\onedrive\\desktop\\ml_ops_anime\\venv\\lib\\site-packages (from matplotlib) (11.3.0)\n",
      "Requirement already satisfied: pyparsing>=2.3.1 in c:\\users\\chris' pc\\onedrive\\desktop\\ml_ops_anime\\venv\\lib\\site-packages (from matplotlib) (3.2.3)\n",
      "Requirement already satisfied: python-dateutil>=2.7 in c:\\users\\chris' pc\\onedrive\\desktop\\ml_ops_anime\\venv\\lib\\site-packages (from matplotlib) (2.9.0.post0)\n",
      "Requirement already satisfied: six>=1.5 in c:\\users\\chris' pc\\onedrive\\desktop\\ml_ops_anime\\venv\\lib\\site-packages (from python-dateutil>=2.7->matplotlib) (1.17.0)\n"
     ]
    },
    {
     "name": "stderr",
     "output_type": "stream",
     "text": [
      "\n",
      "[notice] A new release of pip is available: 23.1.2 -> 25.2\n",
      "[notice] To update, run: python.exe -m pip install --upgrade pip\n"
     ]
    }
   ],
   "source": [
    "!pip install matplotlib wordcloud"
   ]
  },
  {
   "cell_type": "markdown",
   "id": "b0af26c0",
   "metadata": {},
   "source": [
    "### Read the anime list data...."
   ]
  },
  {
   "cell_type": "code",
   "execution_count": null,
   "id": "dc285d89",
   "metadata": {},
   "outputs": [],
   "source": [
    "\n"
   ]
  },
  {
   "cell_type": "code",
   "execution_count": 4,
   "id": "70628eda",
   "metadata": {},
   "outputs": [],
   "source": [
    "import os\n",
    "import pandas as pd\n",
    "\n",
    "# Go up one level from notebooks to ML_ops_anime, then into artifacts/raw_data\n",
    "INPUT_DIR = os.path.join(\"..\", \"artifacts\", \"raw_data\")\n",
    "filename = \"animelist.csv\"\n",
    "file_path = os.path.join(INPUT_DIR, filename)\n",
    "\n",
    "\n",
    "rating_df = pd.read_csv(file_path, low_memory=True, usecols=[\"user_id\", \"anime_id\", \"rating\"])\n"
   ]
  },
  {
   "cell_type": "code",
   "execution_count": 5,
   "id": "a6148a3a",
   "metadata": {},
   "outputs": [
    {
     "data": {
      "text/html": [
       "<div>\n",
       "<style scoped>\n",
       "    .dataframe tbody tr th:only-of-type {\n",
       "        vertical-align: middle;\n",
       "    }\n",
       "\n",
       "    .dataframe tbody tr th {\n",
       "        vertical-align: top;\n",
       "    }\n",
       "\n",
       "    .dataframe thead th {\n",
       "        text-align: right;\n",
       "    }\n",
       "</style>\n",
       "<table border=\"1\" class=\"dataframe\">\n",
       "  <thead>\n",
       "    <tr style=\"text-align: right;\">\n",
       "      <th></th>\n",
       "      <th>user_id</th>\n",
       "      <th>anime_id</th>\n",
       "      <th>rating</th>\n",
       "    </tr>\n",
       "  </thead>\n",
       "  <tbody>\n",
       "    <tr>\n",
       "      <th>0</th>\n",
       "      <td>0</td>\n",
       "      <td>67</td>\n",
       "      <td>9</td>\n",
       "    </tr>\n",
       "    <tr>\n",
       "      <th>1</th>\n",
       "      <td>0</td>\n",
       "      <td>6702</td>\n",
       "      <td>7</td>\n",
       "    </tr>\n",
       "    <tr>\n",
       "      <th>2</th>\n",
       "      <td>0</td>\n",
       "      <td>242</td>\n",
       "      <td>10</td>\n",
       "    </tr>\n",
       "    <tr>\n",
       "      <th>3</th>\n",
       "      <td>0</td>\n",
       "      <td>4898</td>\n",
       "      <td>0</td>\n",
       "    </tr>\n",
       "    <tr>\n",
       "      <th>4</th>\n",
       "      <td>0</td>\n",
       "      <td>21</td>\n",
       "      <td>10</td>\n",
       "    </tr>\n",
       "  </tbody>\n",
       "</table>\n",
       "</div>"
      ],
      "text/plain": [
       "   user_id  anime_id  rating\n",
       "0        0        67       9\n",
       "1        0      6702       7\n",
       "2        0       242      10\n",
       "3        0      4898       0\n",
       "4        0        21      10"
      ]
     },
     "execution_count": 5,
     "metadata": {},
     "output_type": "execute_result"
    }
   ],
   "source": [
    "rating_df.head()"
   ]
  },
  {
   "cell_type": "code",
   "execution_count": 6,
   "id": "04767780",
   "metadata": {},
   "outputs": [
    {
     "data": {
      "text/plain": [
       "5000000"
      ]
     },
     "execution_count": 6,
     "metadata": {},
     "output_type": "execute_result"
    }
   ],
   "source": [
    "len(rating_df)"
   ]
  },
  {
   "cell_type": "markdown",
   "id": "6d35d386",
   "metadata": {},
   "source": [
    "### Data Processing Section Here...."
   ]
  },
  {
   "cell_type": "code",
   "execution_count": 7,
   "id": "ba4f1ab4",
   "metadata": {},
   "outputs": [],
   "source": [
    "n_ratings = rating_df['user_id'].value_counts()\n",
    "rating_df = rating_df[rating_df[\"user_id\"].isin(n_ratings[n_ratings>=400].index)].copy()"
   ]
  },
  {
   "cell_type": "code",
   "execution_count": 8,
   "id": "08d1e96c",
   "metadata": {},
   "outputs": [
    {
     "data": {
      "text/plain": [
       "user_id\n",
       "11100    14429\n",
       "10255     8403\n",
       "4773      5735\n",
       "6852      5406\n",
       "16057     5080\n",
       "         ...  \n",
       "13465        1\n",
       "16480        1\n",
       "16465        1\n",
       "3465         1\n",
       "16450        1\n",
       "Name: count, Length: 15186, dtype: int64"
      ]
     },
     "execution_count": 8,
     "metadata": {},
     "output_type": "execute_result"
    }
   ],
   "source": [
    "n_ratings"
   ]
  },
  {
   "cell_type": "code",
   "execution_count": 9,
   "id": "d369cd2d",
   "metadata": {},
   "outputs": [
    {
     "data": {
      "text/plain": [
       "3246641"
      ]
     },
     "execution_count": 9,
     "metadata": {},
     "output_type": "execute_result"
    }
   ],
   "source": [
    "len(rating_df)"
   ]
  },
  {
   "cell_type": "code",
   "execution_count": 10,
   "id": "2ba9a48e",
   "metadata": {},
   "outputs": [],
   "source": [
    "min_rating = min(rating_df[\"rating\"])"
   ]
  },
  {
   "cell_type": "code",
   "execution_count": 11,
   "id": "db62221a",
   "metadata": {},
   "outputs": [],
   "source": [
    "max_rating = max(rating_df[\"rating\"])"
   ]
  },
  {
   "cell_type": "code",
   "execution_count": 12,
   "id": "26d90157",
   "metadata": {},
   "outputs": [
    {
     "data": {
      "text/plain": [
       "0"
      ]
     },
     "execution_count": 12,
     "metadata": {},
     "output_type": "execute_result"
    }
   ],
   "source": [
    "min_rating"
   ]
  },
  {
   "cell_type": "code",
   "execution_count": 13,
   "id": "d20a3100",
   "metadata": {},
   "outputs": [
    {
     "data": {
      "text/plain": [
       "10"
      ]
     },
     "execution_count": 13,
     "metadata": {},
     "output_type": "execute_result"
    }
   ],
   "source": [
    "max_rating"
   ]
  },
  {
   "cell_type": "code",
   "execution_count": 14,
   "id": "e0219365",
   "metadata": {},
   "outputs": [],
   "source": [
    "avg_rating = np.mean(rating_df[\"rating\"])"
   ]
  },
  {
   "cell_type": "code",
   "execution_count": 15,
   "id": "301bc677",
   "metadata": {},
   "outputs": [
    {
     "data": {
      "text/plain": [
       "np.float64(4.122732695114736)"
      ]
     },
     "execution_count": 15,
     "metadata": {},
     "output_type": "execute_result"
    }
   ],
   "source": [
    "avg_rating"
   ]
  },
  {
   "cell_type": "code",
   "execution_count": 16,
   "id": "bc340dbf",
   "metadata": {},
   "outputs": [],
   "source": [
    "rating_df[\"rating\"] = rating_df[\"rating\"].apply(lambda x: (x-min_rating)/(max_rating-min_rating)).values.astype(np.float64)"
   ]
  },
  {
   "cell_type": "code",
   "execution_count": 17,
   "id": "db03cd2e",
   "metadata": {},
   "outputs": [
    {
     "data": {
      "text/plain": [
       "np.float64(4.122732695114736)"
      ]
     },
     "execution_count": 17,
     "metadata": {},
     "output_type": "execute_result"
    }
   ],
   "source": [
    "avg_rating"
   ]
  },
  {
   "cell_type": "code",
   "execution_count": 18,
   "id": "b2a697bf",
   "metadata": {},
   "outputs": [
    {
     "data": {
      "text/plain": [
       "np.int64(0)"
      ]
     },
     "execution_count": 18,
     "metadata": {},
     "output_type": "execute_result"
    }
   ],
   "source": [
    "rating_df.duplicated().sum()"
   ]
  },
  {
   "cell_type": "code",
   "execution_count": 19,
   "id": "9a56b69e",
   "metadata": {},
   "outputs": [
    {
     "data": {
      "text/plain": [
       "user_id     0\n",
       "anime_id    0\n",
       "rating      0\n",
       "dtype: int64"
      ]
     },
     "execution_count": 19,
     "metadata": {},
     "output_type": "execute_result"
    }
   ],
   "source": [
    "rating_df.isnull().sum()"
   ]
  },
  {
   "cell_type": "code",
   "execution_count": 20,
   "id": "4c32b66c",
   "metadata": {},
   "outputs": [],
   "source": [
    "user_ids = rating_df[\"user_id\"].unique().tolist()\n",
    "user2user_encoded ={x: i for i, x in enumerate(user_ids)}\n",
    "user2user_decoded ={i: x for i, x in enumerate(user_ids)}\n",
    "rating_df[\"user\"] = rating_df[\"user_id\"].map(user2user_encoded)\n",
    "\n"
   ]
  },
  {
   "cell_type": "code",
   "execution_count": 21,
   "id": "8c6a382e",
   "metadata": {},
   "outputs": [
    {
     "data": {
      "text/plain": [
       "{0: 2,\n",
       " 1: 6,\n",
       " 2: 12,\n",
       " 3: 16,\n",
       " 4: 17,\n",
       " 5: 19,\n",
       " 6: 21,\n",
       " 7: 41,\n",
       " 8: 42,\n",
       " 9: 44,\n",
       " 10: 47,\n",
       " 11: 53,\n",
       " 12: 55,\n",
       " 13: 60,\n",
       " 14: 66,\n",
       " 15: 73,\n",
       " 16: 74,\n",
       " 17: 85,\n",
       " 18: 89,\n",
       " 19: 90,\n",
       " 20: 94,\n",
       " 21: 98,\n",
       " 22: 102,\n",
       " 23: 108,\n",
       " 24: 111,\n",
       " 25: 112,\n",
       " 26: 120,\n",
       " 27: 121,\n",
       " 28: 122,\n",
       " 29: 135,\n",
       " 30: 145,\n",
       " 31: 146,\n",
       " 32: 147,\n",
       " 33: 153,\n",
       " 34: 155,\n",
       " 35: 156,\n",
       " 36: 172,\n",
       " 37: 174,\n",
       " 38: 184,\n",
       " 39: 190,\n",
       " 40: 193,\n",
       " 41: 194,\n",
       " 42: 198,\n",
       " 43: 204,\n",
       " 44: 205,\n",
       " 45: 209,\n",
       " 46: 214,\n",
       " 47: 219,\n",
       " 48: 222,\n",
       " 49: 227,\n",
       " 50: 228,\n",
       " 51: 235,\n",
       " 52: 238,\n",
       " 53: 240,\n",
       " 54: 243,\n",
       " 55: 248,\n",
       " 56: 251,\n",
       " 57: 252,\n",
       " 58: 257,\n",
       " 59: 264,\n",
       " 60: 267,\n",
       " 61: 272,\n",
       " 62: 274,\n",
       " 63: 275,\n",
       " 64: 284,\n",
       " 65: 285,\n",
       " 66: 286,\n",
       " 67: 290,\n",
       " 68: 291,\n",
       " 69: 293,\n",
       " 70: 300,\n",
       " 71: 301,\n",
       " 72: 306,\n",
       " 73: 308,\n",
       " 74: 310,\n",
       " 75: 313,\n",
       " 76: 314,\n",
       " 77: 316,\n",
       " 78: 320,\n",
       " 79: 321,\n",
       " 80: 324,\n",
       " 81: 325,\n",
       " 82: 326,\n",
       " 83: 327,\n",
       " 84: 330,\n",
       " 85: 336,\n",
       " 86: 340,\n",
       " 87: 345,\n",
       " 88: 346,\n",
       " 89: 349,\n",
       " 90: 350,\n",
       " 91: 366,\n",
       " 92: 367,\n",
       " 93: 371,\n",
       " 94: 372,\n",
       " 95: 375,\n",
       " 96: 381,\n",
       " 97: 382,\n",
       " 98: 386,\n",
       " 99: 389,\n",
       " 100: 398,\n",
       " 101: 405,\n",
       " 102: 406,\n",
       " 103: 413,\n",
       " 104: 414,\n",
       " 105: 418,\n",
       " 106: 423,\n",
       " 107: 426,\n",
       " 108: 428,\n",
       " 109: 431,\n",
       " 110: 432,\n",
       " 111: 436,\n",
       " 112: 437,\n",
       " 113: 438,\n",
       " 114: 440,\n",
       " 115: 442,\n",
       " 116: 444,\n",
       " 117: 445,\n",
       " 118: 446,\n",
       " 119: 455,\n",
       " 120: 457,\n",
       " 121: 459,\n",
       " 122: 464,\n",
       " 123: 467,\n",
       " 124: 468,\n",
       " 125: 469,\n",
       " 126: 478,\n",
       " 127: 481,\n",
       " 128: 483,\n",
       " 129: 484,\n",
       " 130: 486,\n",
       " 131: 493,\n",
       " 132: 498,\n",
       " 133: 500,\n",
       " 134: 516,\n",
       " 135: 517,\n",
       " 136: 519,\n",
       " 137: 524,\n",
       " 138: 526,\n",
       " 139: 529,\n",
       " 140: 531,\n",
       " 141: 538,\n",
       " 142: 542,\n",
       " 143: 547,\n",
       " 144: 549,\n",
       " 145: 559,\n",
       " 146: 563,\n",
       " 147: 564,\n",
       " 148: 566,\n",
       " 149: 569,\n",
       " 150: 571,\n",
       " 151: 577,\n",
       " 152: 590,\n",
       " 153: 593,\n",
       " 154: 596,\n",
       " 155: 601,\n",
       " 156: 603,\n",
       " 157: 608,\n",
       " 158: 613,\n",
       " 159: 614,\n",
       " 160: 617,\n",
       " 161: 620,\n",
       " 162: 629,\n",
       " 163: 631,\n",
       " 164: 639,\n",
       " 165: 642,\n",
       " 166: 643,\n",
       " 167: 644,\n",
       " 168: 649,\n",
       " 169: 652,\n",
       " 170: 655,\n",
       " 171: 656,\n",
       " 172: 662,\n",
       " 173: 664,\n",
       " 174: 673,\n",
       " 175: 674,\n",
       " 176: 680,\n",
       " 177: 681,\n",
       " 178: 683,\n",
       " 179: 686,\n",
       " 180: 689,\n",
       " 181: 694,\n",
       " 182: 699,\n",
       " 183: 711,\n",
       " 184: 713,\n",
       " 185: 714,\n",
       " 186: 716,\n",
       " 187: 719,\n",
       " 188: 725,\n",
       " 189: 728,\n",
       " 190: 730,\n",
       " 191: 731,\n",
       " 192: 732,\n",
       " 193: 734,\n",
       " 194: 745,\n",
       " 195: 746,\n",
       " 196: 748,\n",
       " 197: 753,\n",
       " 198: 760,\n",
       " 199: 764,\n",
       " 200: 770,\n",
       " 201: 774,\n",
       " 202: 776,\n",
       " 203: 778,\n",
       " 204: 779,\n",
       " 205: 780,\n",
       " 206: 781,\n",
       " 207: 783,\n",
       " 208: 785,\n",
       " 209: 791,\n",
       " 210: 792,\n",
       " 211: 793,\n",
       " 212: 794,\n",
       " 213: 807,\n",
       " 214: 815,\n",
       " 215: 819,\n",
       " 216: 820,\n",
       " 217: 822,\n",
       " 218: 823,\n",
       " 219: 830,\n",
       " 220: 831,\n",
       " 221: 836,\n",
       " 222: 841,\n",
       " 223: 842,\n",
       " 224: 848,\n",
       " 225: 849,\n",
       " 226: 851,\n",
       " 227: 853,\n",
       " 228: 858,\n",
       " 229: 859,\n",
       " 230: 860,\n",
       " 231: 864,\n",
       " 232: 865,\n",
       " 233: 866,\n",
       " 234: 869,\n",
       " 235: 870,\n",
       " 236: 871,\n",
       " 237: 876,\n",
       " 238: 882,\n",
       " 239: 888,\n",
       " 240: 889,\n",
       " 241: 890,\n",
       " 242: 891,\n",
       " 243: 894,\n",
       " 244: 897,\n",
       " 245: 899,\n",
       " 246: 901,\n",
       " 247: 902,\n",
       " 248: 911,\n",
       " 249: 912,\n",
       " 250: 915,\n",
       " 251: 917,\n",
       " 252: 921,\n",
       " 253: 925,\n",
       " 254: 927,\n",
       " 255: 932,\n",
       " 256: 934,\n",
       " 257: 936,\n",
       " 258: 938,\n",
       " 259: 943,\n",
       " 260: 944,\n",
       " 261: 945,\n",
       " 262: 948,\n",
       " 263: 950,\n",
       " 264: 953,\n",
       " 265: 965,\n",
       " 266: 967,\n",
       " 267: 969,\n",
       " 268: 970,\n",
       " 269: 974,\n",
       " 270: 976,\n",
       " 271: 979,\n",
       " 272: 984,\n",
       " 273: 985,\n",
       " 274: 986,\n",
       " 275: 989,\n",
       " 276: 994,\n",
       " 277: 995,\n",
       " 278: 997,\n",
       " 279: 998,\n",
       " 280: 1000,\n",
       " 281: 1002,\n",
       " 282: 1004,\n",
       " 283: 1008,\n",
       " 284: 1010,\n",
       " 285: 1016,\n",
       " 286: 1021,\n",
       " 287: 1023,\n",
       " 288: 1025,\n",
       " 289: 1036,\n",
       " 290: 1043,\n",
       " 291: 1045,\n",
       " 292: 1046,\n",
       " 293: 1047,\n",
       " 294: 1048,\n",
       " 295: 1049,\n",
       " 296: 1063,\n",
       " 297: 1066,\n",
       " 298: 1073,\n",
       " 299: 1079,\n",
       " 300: 1091,\n",
       " 301: 1092,\n",
       " 302: 1094,\n",
       " 303: 1096,\n",
       " 304: 1101,\n",
       " 305: 1107,\n",
       " 306: 1113,\n",
       " 307: 1115,\n",
       " 308: 1116,\n",
       " 309: 1117,\n",
       " 310: 1127,\n",
       " 311: 1128,\n",
       " 312: 1133,\n",
       " 313: 1139,\n",
       " 314: 1150,\n",
       " 315: 1162,\n",
       " 316: 1167,\n",
       " 317: 1170,\n",
       " 318: 1173,\n",
       " 319: 1177,\n",
       " 320: 1179,\n",
       " 321: 1184,\n",
       " 322: 1185,\n",
       " 323: 1187,\n",
       " 324: 1192,\n",
       " 325: 1197,\n",
       " 326: 1203,\n",
       " 327: 1205,\n",
       " 328: 1207,\n",
       " 329: 1209,\n",
       " 330: 1210,\n",
       " 331: 1218,\n",
       " 332: 1220,\n",
       " 333: 1227,\n",
       " 334: 1231,\n",
       " 335: 1235,\n",
       " 336: 1239,\n",
       " 337: 1244,\n",
       " 338: 1245,\n",
       " 339: 1246,\n",
       " 340: 1247,\n",
       " 341: 1248,\n",
       " 342: 1249,\n",
       " 343: 1250,\n",
       " 344: 1259,\n",
       " 345: 1264,\n",
       " 346: 1266,\n",
       " 347: 1273,\n",
       " 348: 1286,\n",
       " 349: 1289,\n",
       " 350: 1296,\n",
       " 351: 1297,\n",
       " 352: 1309,\n",
       " 353: 1310,\n",
       " 354: 1316,\n",
       " 355: 1329,\n",
       " 356: 1334,\n",
       " 357: 1347,\n",
       " 358: 1348,\n",
       " 359: 1353,\n",
       " 360: 1356,\n",
       " 361: 1357,\n",
       " 362: 1358,\n",
       " 363: 1365,\n",
       " 364: 1367,\n",
       " 365: 1371,\n",
       " 366: 1373,\n",
       " 367: 1374,\n",
       " 368: 1392,\n",
       " 369: 1393,\n",
       " 370: 1395,\n",
       " 371: 1396,\n",
       " 372: 1397,\n",
       " 373: 1400,\n",
       " 374: 1404,\n",
       " 375: 1407,\n",
       " 376: 1409,\n",
       " 377: 1412,\n",
       " 378: 1417,\n",
       " 379: 1420,\n",
       " 380: 1421,\n",
       " 381: 1430,\n",
       " 382: 1433,\n",
       " 383: 1437,\n",
       " 384: 1439,\n",
       " 385: 1440,\n",
       " 386: 1443,\n",
       " 387: 1450,\n",
       " 388: 1453,\n",
       " 389: 1463,\n",
       " 390: 1469,\n",
       " 391: 1470,\n",
       " 392: 1483,\n",
       " 393: 1487,\n",
       " 394: 1488,\n",
       " 395: 1491,\n",
       " 396: 1493,\n",
       " 397: 1495,\n",
       " 398: 1496,\n",
       " 399: 1498,\n",
       " 400: 1504,\n",
       " 401: 1514,\n",
       " 402: 1523,\n",
       " 403: 1529,\n",
       " 404: 1552,\n",
       " 405: 1558,\n",
       " 406: 1561,\n",
       " 407: 1563,\n",
       " 408: 1565,\n",
       " 409: 1567,\n",
       " 410: 1568,\n",
       " 411: 1570,\n",
       " 412: 1571,\n",
       " 413: 1581,\n",
       " 414: 1582,\n",
       " 415: 1596,\n",
       " 416: 1599,\n",
       " 417: 1601,\n",
       " 418: 1606,\n",
       " 419: 1609,\n",
       " 420: 1611,\n",
       " 421: 1612,\n",
       " 422: 1616,\n",
       " 423: 1619,\n",
       " 424: 1626,\n",
       " 425: 1627,\n",
       " 426: 1629,\n",
       " 427: 1630,\n",
       " 428: 1631,\n",
       " 429: 1640,\n",
       " 430: 1641,\n",
       " 431: 1650,\n",
       " 432: 1659,\n",
       " 433: 1664,\n",
       " 434: 1665,\n",
       " 435: 1667,\n",
       " 436: 1671,\n",
       " 437: 1679,\n",
       " 438: 1682,\n",
       " 439: 1690,\n",
       " 440: 1694,\n",
       " 441: 1697,\n",
       " 442: 1708,\n",
       " 443: 1710,\n",
       " 444: 1720,\n",
       " 445: 1723,\n",
       " 446: 1731,\n",
       " 447: 1733,\n",
       " 448: 1739,\n",
       " 449: 1747,\n",
       " 450: 1749,\n",
       " 451: 1750,\n",
       " 452: 1752,\n",
       " 453: 1755,\n",
       " 454: 1756,\n",
       " 455: 1760,\n",
       " 456: 1766,\n",
       " 457: 1773,\n",
       " 458: 1775,\n",
       " 459: 1783,\n",
       " 460: 1792,\n",
       " 461: 1795,\n",
       " 462: 1796,\n",
       " 463: 1800,\n",
       " 464: 1801,\n",
       " 465: 1803,\n",
       " 466: 1806,\n",
       " 467: 1812,\n",
       " 468: 1813,\n",
       " 469: 1817,\n",
       " 470: 1820,\n",
       " 471: 1822,\n",
       " 472: 1833,\n",
       " 473: 1840,\n",
       " 474: 1850,\n",
       " 475: 1858,\n",
       " 476: 1864,\n",
       " 477: 1870,\n",
       " 478: 1874,\n",
       " 479: 1878,\n",
       " 480: 1879,\n",
       " 481: 1883,\n",
       " 482: 1886,\n",
       " 483: 1891,\n",
       " 484: 1893,\n",
       " 485: 1894,\n",
       " 486: 1895,\n",
       " 487: 1897,\n",
       " 488: 1900,\n",
       " 489: 1902,\n",
       " 490: 1910,\n",
       " 491: 1911,\n",
       " 492: 1924,\n",
       " 493: 1925,\n",
       " 494: 1930,\n",
       " 495: 1938,\n",
       " 496: 1941,\n",
       " 497: 1946,\n",
       " 498: 1947,\n",
       " 499: 1950,\n",
       " 500: 1957,\n",
       " 501: 1961,\n",
       " 502: 1962,\n",
       " 503: 1963,\n",
       " 504: 1967,\n",
       " 505: 1973,\n",
       " 506: 1975,\n",
       " 507: 1989,\n",
       " 508: 1996,\n",
       " 509: 2002,\n",
       " 510: 2003,\n",
       " 511: 2006,\n",
       " 512: 2009,\n",
       " 513: 2018,\n",
       " 514: 2021,\n",
       " 515: 2030,\n",
       " 516: 2033,\n",
       " 517: 2037,\n",
       " 518: 2043,\n",
       " 519: 2046,\n",
       " 520: 2047,\n",
       " 521: 2058,\n",
       " 522: 2059,\n",
       " 523: 2060,\n",
       " 524: 2061,\n",
       " 525: 2063,\n",
       " 526: 2073,\n",
       " 527: 2079,\n",
       " 528: 2088,\n",
       " 529: 2092,\n",
       " 530: 2095,\n",
       " 531: 2098,\n",
       " 532: 2100,\n",
       " 533: 2109,\n",
       " 534: 2111,\n",
       " 535: 2123,\n",
       " 536: 2132,\n",
       " 537: 2135,\n",
       " 538: 2136,\n",
       " 539: 2143,\n",
       " 540: 2145,\n",
       " 541: 2158,\n",
       " 542: 2159,\n",
       " 543: 2161,\n",
       " 544: 2162,\n",
       " 545: 2169,\n",
       " 546: 2170,\n",
       " 547: 2174,\n",
       " 548: 2179,\n",
       " 549: 2180,\n",
       " 550: 2189,\n",
       " 551: 2191,\n",
       " 552: 2194,\n",
       " 553: 2204,\n",
       " 554: 2209,\n",
       " 555: 2219,\n",
       " 556: 2220,\n",
       " 557: 2222,\n",
       " 558: 2224,\n",
       " 559: 2225,\n",
       " 560: 2233,\n",
       " 561: 2235,\n",
       " 562: 2236,\n",
       " 563: 2237,\n",
       " 564: 2239,\n",
       " 565: 2251,\n",
       " 566: 2261,\n",
       " 567: 2262,\n",
       " 568: 2280,\n",
       " 569: 2281,\n",
       " 570: 2286,\n",
       " 571: 2292,\n",
       " 572: 2300,\n",
       " 573: 2302,\n",
       " 574: 2303,\n",
       " 575: 2304,\n",
       " 576: 2307,\n",
       " 577: 2310,\n",
       " 578: 2316,\n",
       " 579: 2317,\n",
       " 580: 2320,\n",
       " 581: 2326,\n",
       " 582: 2327,\n",
       " 583: 2337,\n",
       " 584: 2339,\n",
       " 585: 2345,\n",
       " 586: 2346,\n",
       " 587: 2349,\n",
       " 588: 2353,\n",
       " 589: 2355,\n",
       " 590: 2356,\n",
       " 591: 2362,\n",
       " 592: 2365,\n",
       " 593: 2367,\n",
       " 594: 2371,\n",
       " 595: 2372,\n",
       " 596: 2373,\n",
       " 597: 2381,\n",
       " 598: 2382,\n",
       " 599: 2388,\n",
       " 600: 2389,\n",
       " 601: 2400,\n",
       " 602: 2402,\n",
       " 603: 2410,\n",
       " 604: 2411,\n",
       " 605: 2414,\n",
       " 606: 2423,\n",
       " 607: 2424,\n",
       " 608: 2437,\n",
       " 609: 2441,\n",
       " 610: 2448,\n",
       " 611: 2450,\n",
       " 612: 2454,\n",
       " 613: 2461,\n",
       " 614: 2462,\n",
       " 615: 2463,\n",
       " 616: 2464,\n",
       " 617: 2465,\n",
       " 618: 2468,\n",
       " 619: 2469,\n",
       " 620: 2471,\n",
       " 621: 2476,\n",
       " 622: 2478,\n",
       " 623: 2480,\n",
       " 624: 2483,\n",
       " 625: 2484,\n",
       " 626: 2493,\n",
       " 627: 2507,\n",
       " 628: 2509,\n",
       " 629: 2510,\n",
       " 630: 2513,\n",
       " 631: 2518,\n",
       " 632: 2520,\n",
       " 633: 2523,\n",
       " 634: 2531,\n",
       " 635: 2535,\n",
       " 636: 2543,\n",
       " 637: 2544,\n",
       " 638: 2546,\n",
       " 639: 2547,\n",
       " 640: 2557,\n",
       " 641: 2559,\n",
       " 642: 2563,\n",
       " 643: 2569,\n",
       " 644: 2572,\n",
       " 645: 2576,\n",
       " 646: 2586,\n",
       " 647: 2595,\n",
       " 648: 2600,\n",
       " 649: 2601,\n",
       " 650: 2604,\n",
       " 651: 2605,\n",
       " 652: 2608,\n",
       " 653: 2609,\n",
       " 654: 2610,\n",
       " 655: 2611,\n",
       " 656: 2613,\n",
       " 657: 2615,\n",
       " 658: 2616,\n",
       " 659: 2622,\n",
       " 660: 2638,\n",
       " 661: 2640,\n",
       " 662: 2641,\n",
       " 663: 2644,\n",
       " 664: 2650,\n",
       " 665: 2653,\n",
       " 666: 2656,\n",
       " 667: 2662,\n",
       " 668: 2664,\n",
       " 669: 2666,\n",
       " 670: 2672,\n",
       " 671: 2674,\n",
       " 672: 2675,\n",
       " 673: 2687,\n",
       " 674: 2691,\n",
       " 675: 2697,\n",
       " 676: 2703,\n",
       " 677: 2704,\n",
       " 678: 2713,\n",
       " 679: 2715,\n",
       " 680: 2720,\n",
       " 681: 2721,\n",
       " 682: 2722,\n",
       " 683: 2727,\n",
       " 684: 2731,\n",
       " 685: 2735,\n",
       " 686: 2739,\n",
       " 687: 2741,\n",
       " 688: 2744,\n",
       " 689: 2745,\n",
       " 690: 2748,\n",
       " 691: 2754,\n",
       " 692: 2764,\n",
       " 693: 2766,\n",
       " 694: 2768,\n",
       " 695: 2771,\n",
       " 696: 2776,\n",
       " 697: 2787,\n",
       " 698: 2791,\n",
       " 699: 2796,\n",
       " 700: 2804,\n",
       " 701: 2805,\n",
       " 702: 2814,\n",
       " 703: 2820,\n",
       " 704: 2822,\n",
       " 705: 2824,\n",
       " 706: 2831,\n",
       " 707: 2832,\n",
       " 708: 2840,\n",
       " 709: 2845,\n",
       " 710: 2852,\n",
       " 711: 2855,\n",
       " 712: 2856,\n",
       " 713: 2860,\n",
       " 714: 2865,\n",
       " 715: 2866,\n",
       " 716: 2868,\n",
       " 717: 2871,\n",
       " 718: 2874,\n",
       " 719: 2876,\n",
       " 720: 2881,\n",
       " 721: 2885,\n",
       " 722: 2891,\n",
       " 723: 2892,\n",
       " 724: 2901,\n",
       " 725: 2902,\n",
       " 726: 2913,\n",
       " 727: 2919,\n",
       " 728: 2924,\n",
       " 729: 2938,\n",
       " 730: 2941,\n",
       " 731: 2950,\n",
       " 732: 2952,\n",
       " 733: 2953,\n",
       " 734: 2969,\n",
       " 735: 2970,\n",
       " 736: 2972,\n",
       " 737: 2974,\n",
       " 738: 2976,\n",
       " 739: 2980,\n",
       " 740: 2982,\n",
       " 741: 2987,\n",
       " 742: 2992,\n",
       " 743: 2993,\n",
       " 744: 2997,\n",
       " 745: 2998,\n",
       " 746: 3001,\n",
       " 747: 3004,\n",
       " 748: 3005,\n",
       " 749: 3008,\n",
       " 750: 3015,\n",
       " 751: 3018,\n",
       " 752: 3021,\n",
       " 753: 3051,\n",
       " 754: 3054,\n",
       " 755: 3055,\n",
       " 756: 3061,\n",
       " 757: 3071,\n",
       " 758: 3079,\n",
       " 759: 3085,\n",
       " 760: 3101,\n",
       " 761: 3102,\n",
       " 762: 3105,\n",
       " 763: 3106,\n",
       " 764: 3110,\n",
       " 765: 3118,\n",
       " 766: 3120,\n",
       " 767: 3123,\n",
       " 768: 3127,\n",
       " 769: 3136,\n",
       " 770: 3139,\n",
       " 771: 3142,\n",
       " 772: 3144,\n",
       " 773: 3145,\n",
       " 774: 3148,\n",
       " 775: 3151,\n",
       " 776: 3154,\n",
       " 777: 3160,\n",
       " 778: 3163,\n",
       " 779: 3164,\n",
       " 780: 3165,\n",
       " 781: 3168,\n",
       " 782: 3171,\n",
       " 783: 3174,\n",
       " 784: 3179,\n",
       " 785: 3185,\n",
       " 786: 3187,\n",
       " 787: 3191,\n",
       " 788: 3198,\n",
       " 789: 3203,\n",
       " 790: 3210,\n",
       " 791: 3213,\n",
       " 792: 3214,\n",
       " 793: 3223,\n",
       " 794: 3224,\n",
       " 795: 3227,\n",
       " 796: 3229,\n",
       " 797: 3230,\n",
       " 798: 3232,\n",
       " 799: 3235,\n",
       " 800: 3236,\n",
       " 801: 3249,\n",
       " 802: 3257,\n",
       " 803: 3260,\n",
       " 804: 3266,\n",
       " 805: 3268,\n",
       " 806: 3275,\n",
       " 807: 3276,\n",
       " 808: 3278,\n",
       " 809: 3284,\n",
       " 810: 3286,\n",
       " 811: 3287,\n",
       " 812: 3291,\n",
       " 813: 3297,\n",
       " 814: 3298,\n",
       " 815: 3303,\n",
       " 816: 3308,\n",
       " 817: 3311,\n",
       " 818: 3312,\n",
       " 819: 3313,\n",
       " 820: 3315,\n",
       " 821: 3329,\n",
       " 822: 3330,\n",
       " 823: 3331,\n",
       " 824: 3332,\n",
       " 825: 3333,\n",
       " 826: 3334,\n",
       " 827: 3336,\n",
       " 828: 3337,\n",
       " 829: 3354,\n",
       " 830: 3358,\n",
       " 831: 3363,\n",
       " 832: 3369,\n",
       " 833: 3376,\n",
       " 834: 3381,\n",
       " 835: 3382,\n",
       " 836: 3388,\n",
       " 837: 3393,\n",
       " 838: 3395,\n",
       " 839: 3396,\n",
       " 840: 3399,\n",
       " 841: 3400,\n",
       " 842: 3405,\n",
       " 843: 3409,\n",
       " 844: 3411,\n",
       " 845: 3423,\n",
       " 846: 3431,\n",
       " 847: 3432,\n",
       " 848: 3433,\n",
       " 849: 3434,\n",
       " 850: 3436,\n",
       " 851: 3437,\n",
       " 852: 3451,\n",
       " 853: 3454,\n",
       " 854: 3458,\n",
       " 855: 3462,\n",
       " 856: 3466,\n",
       " 857: 3470,\n",
       " 858: 3473,\n",
       " 859: 3476,\n",
       " 860: 3479,\n",
       " 861: 3480,\n",
       " 862: 3481,\n",
       " 863: 3483,\n",
       " 864: 3493,\n",
       " 865: 3497,\n",
       " 866: 3499,\n",
       " 867: 3502,\n",
       " 868: 3508,\n",
       " 869: 3509,\n",
       " 870: 3517,\n",
       " 871: 3522,\n",
       " 872: 3524,\n",
       " 873: 3528,\n",
       " 874: 3531,\n",
       " 875: 3532,\n",
       " 876: 3533,\n",
       " 877: 3539,\n",
       " 878: 3541,\n",
       " 879: 3547,\n",
       " 880: 3558,\n",
       " 881: 3578,\n",
       " 882: 3581,\n",
       " 883: 3582,\n",
       " 884: 3588,\n",
       " 885: 3589,\n",
       " 886: 3600,\n",
       " 887: 3601,\n",
       " 888: 3602,\n",
       " 889: 3604,\n",
       " 890: 3607,\n",
       " 891: 3608,\n",
       " 892: 3612,\n",
       " 893: 3620,\n",
       " 894: 3621,\n",
       " 895: 3623,\n",
       " 896: 3625,\n",
       " 897: 3626,\n",
       " 898: 3632,\n",
       " 899: 3633,\n",
       " 900: 3642,\n",
       " 901: 3644,\n",
       " 902: 3645,\n",
       " 903: 3646,\n",
       " 904: 3647,\n",
       " 905: 3651,\n",
       " 906: 3652,\n",
       " 907: 3653,\n",
       " 908: 3655,\n",
       " 909: 3665,\n",
       " 910: 3681,\n",
       " 911: 3688,\n",
       " 912: 3694,\n",
       " 913: 3697,\n",
       " 914: 3701,\n",
       " 915: 3702,\n",
       " 916: 3711,\n",
       " 917: 3714,\n",
       " 918: 3715,\n",
       " 919: 3724,\n",
       " 920: 3725,\n",
       " 921: 3730,\n",
       " 922: 3733,\n",
       " 923: 3737,\n",
       " 924: 3741,\n",
       " 925: 3743,\n",
       " 926: 3749,\n",
       " 927: 3755,\n",
       " 928: 3756,\n",
       " 929: 3758,\n",
       " 930: 3775,\n",
       " 931: 3784,\n",
       " 932: 3785,\n",
       " 933: 3793,\n",
       " 934: 3811,\n",
       " 935: 3812,\n",
       " 936: 3814,\n",
       " 937: 3816,\n",
       " 938: 3819,\n",
       " 939: 3824,\n",
       " 940: 3825,\n",
       " 941: 3827,\n",
       " 942: 3828,\n",
       " 943: 3829,\n",
       " 944: 3838,\n",
       " 945: 3845,\n",
       " 946: 3850,\n",
       " 947: 3858,\n",
       " 948: 3862,\n",
       " 949: 3869,\n",
       " 950: 3882,\n",
       " 951: 3890,\n",
       " 952: 3892,\n",
       " 953: 3894,\n",
       " 954: 3896,\n",
       " 955: 3897,\n",
       " 956: 3899,\n",
       " 957: 3901,\n",
       " 958: 3907,\n",
       " 959: 3914,\n",
       " 960: 3916,\n",
       " 961: 3917,\n",
       " 962: 3922,\n",
       " 963: 3923,\n",
       " 964: 3926,\n",
       " 965: 3928,\n",
       " 966: 3929,\n",
       " 967: 3931,\n",
       " 968: 3932,\n",
       " 969: 3933,\n",
       " 970: 3934,\n",
       " 971: 3940,\n",
       " 972: 3941,\n",
       " 973: 3944,\n",
       " 974: 3945,\n",
       " 975: 3949,\n",
       " 976: 3953,\n",
       " 977: 3954,\n",
       " 978: 3965,\n",
       " 979: 3966,\n",
       " 980: 3968,\n",
       " 981: 3972,\n",
       " 982: 3979,\n",
       " 983: 3982,\n",
       " 984: 3999,\n",
       " 985: 4004,\n",
       " 986: 4007,\n",
       " 987: 4009,\n",
       " 988: 4011,\n",
       " 989: 4016,\n",
       " 990: 4018,\n",
       " 991: 4024,\n",
       " 992: 4027,\n",
       " 993: 4033,\n",
       " 994: 4036,\n",
       " 995: 4041,\n",
       " 996: 4052,\n",
       " 997: 4055,\n",
       " 998: 4056,\n",
       " 999: 4058,\n",
       " ...}"
      ]
     },
     "execution_count": 21,
     "metadata": {},
     "output_type": "execute_result"
    }
   ],
   "source": [
    "user2user_decoded"
   ]
  },
  {
   "cell_type": "code",
   "execution_count": 22,
   "id": "59fe31ae",
   "metadata": {},
   "outputs": [],
   "source": [
    "n_users = len(user2user_encoded)"
   ]
  },
  {
   "cell_type": "code",
   "execution_count": 23,
   "id": "07e98ee5",
   "metadata": {},
   "outputs": [
    {
     "data": {
      "text/plain": [
       "4203"
      ]
     },
     "execution_count": 23,
     "metadata": {},
     "output_type": "execute_result"
    }
   ],
   "source": [
    "n_users "
   ]
  },
  {
   "cell_type": "code",
   "execution_count": 24,
   "id": "100da823",
   "metadata": {},
   "outputs": [],
   "source": [
    "anime_ids = rating_df[\"anime_id\"].unique().tolist()\n",
    "anime2anime_encoded ={x: i for i, x in enumerate(anime_ids)}\n",
    "anime2anime_decoded ={i: x for i, x in enumerate(anime_ids)}\n",
    "rating_df[\"anime\"] = rating_df[\"anime_id\"].map(anime2anime_encoded)\n"
   ]
  },
  {
   "cell_type": "code",
   "execution_count": 25,
   "id": "48a68d03",
   "metadata": {},
   "outputs": [],
   "source": [
    "n_anime =len(anime2anime_encoded)"
   ]
  },
  {
   "cell_type": "code",
   "execution_count": 26,
   "id": "3f75ea32",
   "metadata": {},
   "outputs": [
    {
     "data": {
      "text/plain": [
       "17149"
      ]
     },
     "execution_count": 26,
     "metadata": {},
     "output_type": "execute_result"
    }
   ],
   "source": [
    "n_anime"
   ]
  },
  {
   "cell_type": "code",
   "execution_count": 27,
   "id": "6f1df612",
   "metadata": {},
   "outputs": [],
   "source": [
    "rating_df = rating_df.sample(frac=1, random_state=43).reset_index(drop=True)"
   ]
  },
  {
   "cell_type": "code",
   "execution_count": 28,
   "id": "c623d976",
   "metadata": {},
   "outputs": [
    {
     "data": {
      "text/html": [
       "<div>\n",
       "<style scoped>\n",
       "    .dataframe tbody tr th:only-of-type {\n",
       "        vertical-align: middle;\n",
       "    }\n",
       "\n",
       "    .dataframe tbody tr th {\n",
       "        vertical-align: top;\n",
       "    }\n",
       "\n",
       "    .dataframe thead th {\n",
       "        text-align: right;\n",
       "    }\n",
       "</style>\n",
       "<table border=\"1\" class=\"dataframe\">\n",
       "  <thead>\n",
       "    <tr style=\"text-align: right;\">\n",
       "      <th></th>\n",
       "      <th>user_id</th>\n",
       "      <th>anime_id</th>\n",
       "      <th>rating</th>\n",
       "      <th>user</th>\n",
       "      <th>anime</th>\n",
       "    </tr>\n",
       "  </thead>\n",
       "  <tbody>\n",
       "    <tr>\n",
       "      <th>0</th>\n",
       "      <td>457</td>\n",
       "      <td>18153</td>\n",
       "      <td>0.9</td>\n",
       "      <td>120</td>\n",
       "      <td>1377</td>\n",
       "    </tr>\n",
       "    <tr>\n",
       "      <th>1</th>\n",
       "      <td>4903</td>\n",
       "      <td>20507</td>\n",
       "      <td>0.7</td>\n",
       "      <td>1195</td>\n",
       "      <td>1216</td>\n",
       "    </tr>\n",
       "  </tbody>\n",
       "</table>\n",
       "</div>"
      ],
      "text/plain": [
       "   user_id  anime_id  rating  user  anime\n",
       "0      457     18153     0.9   120   1377\n",
       "1     4903     20507     0.7  1195   1216"
      ]
     },
     "execution_count": 28,
     "metadata": {},
     "output_type": "execute_result"
    }
   ],
   "source": [
    "rating_df.head(2)"
   ]
  },
  {
   "cell_type": "code",
   "execution_count": 29,
   "id": "6b95102f",
   "metadata": {},
   "outputs": [],
   "source": [
    "X = rating_df[[\"user\", \"anime\"]].values\n",
    "y = rating_df[\"rating\"]"
   ]
  },
  {
   "cell_type": "code",
   "execution_count": 30,
   "id": "affa4d1a",
   "metadata": {},
   "outputs": [],
   "source": [
    "test_size = 1000\n",
    "train_indices = rating_df.shape[0] - test_size\n",
    "\n"
   ]
  },
  {
   "cell_type": "code",
   "execution_count": 31,
   "id": "ccddfdb7",
   "metadata": {},
   "outputs": [],
   "source": [
    "X_train, X_test, y_train, y_test = (\n",
    "    X[:train_indices],\n",
    "    X[train_indices:],\n",
    "    y[:train_indices],\n",
    "    y[train_indices:]\n",
    "\n",
    ")"
   ]
  },
  {
   "cell_type": "code",
   "execution_count": 32,
   "id": "8c36a62a",
   "metadata": {},
   "outputs": [
    {
     "data": {
      "text/plain": [
       "3245641"
      ]
     },
     "execution_count": 32,
     "metadata": {},
     "output_type": "execute_result"
    }
   ],
   "source": [
    "len(X_train)"
   ]
  },
  {
   "cell_type": "code",
   "execution_count": 33,
   "id": "f4467866",
   "metadata": {},
   "outputs": [
    {
     "data": {
      "text/plain": [
       "1000"
      ]
     },
     "execution_count": 33,
     "metadata": {},
     "output_type": "execute_result"
    }
   ],
   "source": [
    "len(X_test)"
   ]
  },
  {
   "cell_type": "code",
   "execution_count": 34,
   "id": "4c82b4c8",
   "metadata": {},
   "outputs": [
    {
     "data": {
      "text/plain": [
       "numpy.ndarray"
      ]
     },
     "execution_count": 34,
     "metadata": {},
     "output_type": "execute_result"
    }
   ],
   "source": [
    "type(X_train)"
   ]
  },
  {
   "cell_type": "code",
   "execution_count": 35,
   "id": "158fbf14",
   "metadata": {},
   "outputs": [],
   "source": [
    "X_train_array = [X_train[:, 0], X_train[:, 1]]\n",
    "X_test_array = [X_test[: ,0], X_test[:,1]]"
   ]
  },
  {
   "cell_type": "code",
   "execution_count": 36,
   "id": "2f2e5649",
   "metadata": {},
   "outputs": [
    {
     "data": {
      "text/plain": [
       "list"
      ]
     },
     "execution_count": 36,
     "metadata": {},
     "output_type": "execute_result"
    }
   ],
   "source": [
    "type(X_test_array)"
   ]
  },
  {
   "cell_type": "code",
   "execution_count": 37,
   "id": "b934f8ca",
   "metadata": {},
   "outputs": [
    {
     "data": {
      "text/plain": [
       "numpy.ndarray"
      ]
     },
     "execution_count": 37,
     "metadata": {},
     "output_type": "execute_result"
    }
   ],
   "source": [
    "type(X_test_array[0])"
   ]
  },
  {
   "cell_type": "code",
   "execution_count": null,
   "id": "d592d27d",
   "metadata": {},
   "outputs": [],
   "source": []
  },
  {
   "cell_type": "markdown",
   "id": "90bd3fb9",
   "metadata": {},
   "source": [
    "#### MODEL ARCHITECTURE SECTION......."
   ]
  },
  {
   "cell_type": "code",
   "execution_count": 38,
   "id": "9599d936",
   "metadata": {},
   "outputs": [],
   "source": [
    "def RecommenderNet():\n",
    "    embedding_size = 128\n",
    "\n",
    "    user = Input(name=\"user\", shape= [1])\n",
    "    user_embedding = Embedding(name=\"user_embedding\", input_dim=n_users, output_dim=embedding_size)(user)\n",
    "\n",
    "    anime = Input(name=\"anime\", shape=[1])\n",
    "\n",
    "    anime_embedding = Embedding(name=\"anime_embedding\", input_dim=n_anime, output_dim=embedding_size)(anime)\n",
    "\n",
    "    X = Dot(name=\"dot_product\", normalize=True, axes=2)([user_embedding, anime_embedding])\n",
    "    \n",
    "    X = Flatten()(X)\n",
    "\n",
    "    X = Dense(1, kernel_initializer='he_normal')(X)\n",
    "\n",
    "    \n",
    "    X = BatchNormalization()(X)\n",
    "\n",
    "    X = Activation(\"sigmoid\")(X)\n",
    "\n",
    "    model = Model(inputs=[user, anime], outputs=X)\n",
    "    model.compile(loss=\"binary_crossentropy\", metrics=[\"mae\", \"mse\"], optimizer='Adam')\n",
    "\n",
    "    return model\n",
    "\n",
    "\n",
    "\n"
   ]
  },
  {
   "cell_type": "code",
   "execution_count": 39,
   "id": "5f215cdd",
   "metadata": {},
   "outputs": [],
   "source": [
    "model = RecommenderNet()"
   ]
  },
  {
   "cell_type": "code",
   "execution_count": 40,
   "id": "acb5712b",
   "metadata": {},
   "outputs": [
    {
     "data": {
      "text/html": [
       "<pre style=\"white-space:pre;overflow-x:auto;line-height:normal;font-family:Menlo,'DejaVu Sans Mono',consolas,'Courier New',monospace\"><span style=\"font-weight: bold\">Model: \"functional\"</span>\n",
       "</pre>\n"
      ],
      "text/plain": [
       "\u001b[1mModel: \"functional\"\u001b[0m\n"
      ]
     },
     "metadata": {},
     "output_type": "display_data"
    },
    {
     "data": {
      "text/html": [
       "<pre style=\"white-space:pre;overflow-x:auto;line-height:normal;font-family:Menlo,'DejaVu Sans Mono',consolas,'Courier New',monospace\">┏━━━━━━━━━━━━━━━━━━━━━┳━━━━━━━━━━━━━━━━━━━┳━━━━━━━━━━━━┳━━━━━━━━━━━━━━━━━━━┓\n",
       "┃<span style=\"font-weight: bold\"> Layer (type)        </span>┃<span style=\"font-weight: bold\"> Output Shape      </span>┃<span style=\"font-weight: bold\">    Param # </span>┃<span style=\"font-weight: bold\"> Connected to      </span>┃\n",
       "┡━━━━━━━━━━━━━━━━━━━━━╇━━━━━━━━━━━━━━━━━━━╇━━━━━━━━━━━━╇━━━━━━━━━━━━━━━━━━━┩\n",
       "│ user (<span style=\"color: #0087ff; text-decoration-color: #0087ff\">InputLayer</span>)   │ (<span style=\"color: #00d7ff; text-decoration-color: #00d7ff\">None</span>, <span style=\"color: #00af00; text-decoration-color: #00af00\">1</span>)         │          <span style=\"color: #00af00; text-decoration-color: #00af00\">0</span> │ -                 │\n",
       "├─────────────────────┼───────────────────┼────────────┼───────────────────┤\n",
       "│ anime (<span style=\"color: #0087ff; text-decoration-color: #0087ff\">InputLayer</span>)  │ (<span style=\"color: #00d7ff; text-decoration-color: #00d7ff\">None</span>, <span style=\"color: #00af00; text-decoration-color: #00af00\">1</span>)         │          <span style=\"color: #00af00; text-decoration-color: #00af00\">0</span> │ -                 │\n",
       "├─────────────────────┼───────────────────┼────────────┼───────────────────┤\n",
       "│ user_embedding      │ (<span style=\"color: #00d7ff; text-decoration-color: #00d7ff\">None</span>, <span style=\"color: #00af00; text-decoration-color: #00af00\">1</span>, <span style=\"color: #00af00; text-decoration-color: #00af00\">128</span>)    │    <span style=\"color: #00af00; text-decoration-color: #00af00\">537,984</span> │ user[<span style=\"color: #00af00; text-decoration-color: #00af00\">0</span>][<span style=\"color: #00af00; text-decoration-color: #00af00\">0</span>]        │\n",
       "│ (<span style=\"color: #0087ff; text-decoration-color: #0087ff\">Embedding</span>)         │                   │            │                   │\n",
       "├─────────────────────┼───────────────────┼────────────┼───────────────────┤\n",
       "│ anime_embedding     │ (<span style=\"color: #00d7ff; text-decoration-color: #00d7ff\">None</span>, <span style=\"color: #00af00; text-decoration-color: #00af00\">1</span>, <span style=\"color: #00af00; text-decoration-color: #00af00\">128</span>)    │  <span style=\"color: #00af00; text-decoration-color: #00af00\">2,195,072</span> │ anime[<span style=\"color: #00af00; text-decoration-color: #00af00\">0</span>][<span style=\"color: #00af00; text-decoration-color: #00af00\">0</span>]       │\n",
       "│ (<span style=\"color: #0087ff; text-decoration-color: #0087ff\">Embedding</span>)         │                   │            │                   │\n",
       "├─────────────────────┼───────────────────┼────────────┼───────────────────┤\n",
       "│ dot_product (<span style=\"color: #0087ff; text-decoration-color: #0087ff\">Dot</span>)   │ (<span style=\"color: #00d7ff; text-decoration-color: #00d7ff\">None</span>, <span style=\"color: #00af00; text-decoration-color: #00af00\">1</span>, <span style=\"color: #00af00; text-decoration-color: #00af00\">1</span>)      │          <span style=\"color: #00af00; text-decoration-color: #00af00\">0</span> │ user_embedding[<span style=\"color: #00af00; text-decoration-color: #00af00\">0</span>… │\n",
       "│                     │                   │            │ anime_embedding[<span style=\"color: #00af00; text-decoration-color: #00af00\">…</span> │\n",
       "├─────────────────────┼───────────────────┼────────────┼───────────────────┤\n",
       "│ flatten (<span style=\"color: #0087ff; text-decoration-color: #0087ff\">Flatten</span>)   │ (<span style=\"color: #00d7ff; text-decoration-color: #00d7ff\">None</span>, <span style=\"color: #00af00; text-decoration-color: #00af00\">1</span>)         │          <span style=\"color: #00af00; text-decoration-color: #00af00\">0</span> │ dot_product[<span style=\"color: #00af00; text-decoration-color: #00af00\">0</span>][<span style=\"color: #00af00; text-decoration-color: #00af00\">0</span>] │\n",
       "├─────────────────────┼───────────────────┼────────────┼───────────────────┤\n",
       "│ dense (<span style=\"color: #0087ff; text-decoration-color: #0087ff\">Dense</span>)       │ (<span style=\"color: #00d7ff; text-decoration-color: #00d7ff\">None</span>, <span style=\"color: #00af00; text-decoration-color: #00af00\">1</span>)         │          <span style=\"color: #00af00; text-decoration-color: #00af00\">2</span> │ flatten[<span style=\"color: #00af00; text-decoration-color: #00af00\">0</span>][<span style=\"color: #00af00; text-decoration-color: #00af00\">0</span>]     │\n",
       "├─────────────────────┼───────────────────┼────────────┼───────────────────┤\n",
       "│ batch_normalization │ (<span style=\"color: #00d7ff; text-decoration-color: #00d7ff\">None</span>, <span style=\"color: #00af00; text-decoration-color: #00af00\">1</span>)         │          <span style=\"color: #00af00; text-decoration-color: #00af00\">4</span> │ dense[<span style=\"color: #00af00; text-decoration-color: #00af00\">0</span>][<span style=\"color: #00af00; text-decoration-color: #00af00\">0</span>]       │\n",
       "│ (<span style=\"color: #0087ff; text-decoration-color: #0087ff\">BatchNormalizatio…</span> │                   │            │                   │\n",
       "├─────────────────────┼───────────────────┼────────────┼───────────────────┤\n",
       "│ activation          │ (<span style=\"color: #00d7ff; text-decoration-color: #00d7ff\">None</span>, <span style=\"color: #00af00; text-decoration-color: #00af00\">1</span>)         │          <span style=\"color: #00af00; text-decoration-color: #00af00\">0</span> │ batch_normalizat… │\n",
       "│ (<span style=\"color: #0087ff; text-decoration-color: #0087ff\">Activation</span>)        │                   │            │                   │\n",
       "└─────────────────────┴───────────────────┴────────────┴───────────────────┘\n",
       "</pre>\n"
      ],
      "text/plain": [
       "┏━━━━━━━━━━━━━━━━━━━━━┳━━━━━━━━━━━━━━━━━━━┳━━━━━━━━━━━━┳━━━━━━━━━━━━━━━━━━━┓\n",
       "┃\u001b[1m \u001b[0m\u001b[1mLayer (type)       \u001b[0m\u001b[1m \u001b[0m┃\u001b[1m \u001b[0m\u001b[1mOutput Shape     \u001b[0m\u001b[1m \u001b[0m┃\u001b[1m \u001b[0m\u001b[1m   Param #\u001b[0m\u001b[1m \u001b[0m┃\u001b[1m \u001b[0m\u001b[1mConnected to     \u001b[0m\u001b[1m \u001b[0m┃\n",
       "┡━━━━━━━━━━━━━━━━━━━━━╇━━━━━━━━━━━━━━━━━━━╇━━━━━━━━━━━━╇━━━━━━━━━━━━━━━━━━━┩\n",
       "│ user (\u001b[38;5;33mInputLayer\u001b[0m)   │ (\u001b[38;5;45mNone\u001b[0m, \u001b[38;5;34m1\u001b[0m)         │          \u001b[38;5;34m0\u001b[0m │ -                 │\n",
       "├─────────────────────┼───────────────────┼────────────┼───────────────────┤\n",
       "│ anime (\u001b[38;5;33mInputLayer\u001b[0m)  │ (\u001b[38;5;45mNone\u001b[0m, \u001b[38;5;34m1\u001b[0m)         │          \u001b[38;5;34m0\u001b[0m │ -                 │\n",
       "├─────────────────────┼───────────────────┼────────────┼───────────────────┤\n",
       "│ user_embedding      │ (\u001b[38;5;45mNone\u001b[0m, \u001b[38;5;34m1\u001b[0m, \u001b[38;5;34m128\u001b[0m)    │    \u001b[38;5;34m537,984\u001b[0m │ user[\u001b[38;5;34m0\u001b[0m][\u001b[38;5;34m0\u001b[0m]        │\n",
       "│ (\u001b[38;5;33mEmbedding\u001b[0m)         │                   │            │                   │\n",
       "├─────────────────────┼───────────────────┼────────────┼───────────────────┤\n",
       "│ anime_embedding     │ (\u001b[38;5;45mNone\u001b[0m, \u001b[38;5;34m1\u001b[0m, \u001b[38;5;34m128\u001b[0m)    │  \u001b[38;5;34m2,195,072\u001b[0m │ anime[\u001b[38;5;34m0\u001b[0m][\u001b[38;5;34m0\u001b[0m]       │\n",
       "│ (\u001b[38;5;33mEmbedding\u001b[0m)         │                   │            │                   │\n",
       "├─────────────────────┼───────────────────┼────────────┼───────────────────┤\n",
       "│ dot_product (\u001b[38;5;33mDot\u001b[0m)   │ (\u001b[38;5;45mNone\u001b[0m, \u001b[38;5;34m1\u001b[0m, \u001b[38;5;34m1\u001b[0m)      │          \u001b[38;5;34m0\u001b[0m │ user_embedding[\u001b[38;5;34m0\u001b[0m… │\n",
       "│                     │                   │            │ anime_embedding[\u001b[38;5;34m…\u001b[0m │\n",
       "├─────────────────────┼───────────────────┼────────────┼───────────────────┤\n",
       "│ flatten (\u001b[38;5;33mFlatten\u001b[0m)   │ (\u001b[38;5;45mNone\u001b[0m, \u001b[38;5;34m1\u001b[0m)         │          \u001b[38;5;34m0\u001b[0m │ dot_product[\u001b[38;5;34m0\u001b[0m][\u001b[38;5;34m0\u001b[0m] │\n",
       "├─────────────────────┼───────────────────┼────────────┼───────────────────┤\n",
       "│ dense (\u001b[38;5;33mDense\u001b[0m)       │ (\u001b[38;5;45mNone\u001b[0m, \u001b[38;5;34m1\u001b[0m)         │          \u001b[38;5;34m2\u001b[0m │ flatten[\u001b[38;5;34m0\u001b[0m][\u001b[38;5;34m0\u001b[0m]     │\n",
       "├─────────────────────┼───────────────────┼────────────┼───────────────────┤\n",
       "│ batch_normalization │ (\u001b[38;5;45mNone\u001b[0m, \u001b[38;5;34m1\u001b[0m)         │          \u001b[38;5;34m4\u001b[0m │ dense[\u001b[38;5;34m0\u001b[0m][\u001b[38;5;34m0\u001b[0m]       │\n",
       "│ (\u001b[38;5;33mBatchNormalizatio…\u001b[0m │                   │            │                   │\n",
       "├─────────────────────┼───────────────────┼────────────┼───────────────────┤\n",
       "│ activation          │ (\u001b[38;5;45mNone\u001b[0m, \u001b[38;5;34m1\u001b[0m)         │          \u001b[38;5;34m0\u001b[0m │ batch_normalizat… │\n",
       "│ (\u001b[38;5;33mActivation\u001b[0m)        │                   │            │                   │\n",
       "└─────────────────────┴───────────────────┴────────────┴───────────────────┘\n"
      ]
     },
     "metadata": {},
     "output_type": "display_data"
    },
    {
     "data": {
      "text/html": [
       "<pre style=\"white-space:pre;overflow-x:auto;line-height:normal;font-family:Menlo,'DejaVu Sans Mono',consolas,'Courier New',monospace\"><span style=\"font-weight: bold\"> Total params: </span><span style=\"color: #00af00; text-decoration-color: #00af00\">2,733,062</span> (10.43 MB)\n",
       "</pre>\n"
      ],
      "text/plain": [
       "\u001b[1m Total params: \u001b[0m\u001b[38;5;34m2,733,062\u001b[0m (10.43 MB)\n"
      ]
     },
     "metadata": {},
     "output_type": "display_data"
    },
    {
     "data": {
      "text/html": [
       "<pre style=\"white-space:pre;overflow-x:auto;line-height:normal;font-family:Menlo,'DejaVu Sans Mono',consolas,'Courier New',monospace\"><span style=\"font-weight: bold\"> Trainable params: </span><span style=\"color: #00af00; text-decoration-color: #00af00\">2,733,060</span> (10.43 MB)\n",
       "</pre>\n"
      ],
      "text/plain": [
       "\u001b[1m Trainable params: \u001b[0m\u001b[38;5;34m2,733,060\u001b[0m (10.43 MB)\n"
      ]
     },
     "metadata": {},
     "output_type": "display_data"
    },
    {
     "data": {
      "text/html": [
       "<pre style=\"white-space:pre;overflow-x:auto;line-height:normal;font-family:Menlo,'DejaVu Sans Mono',consolas,'Courier New',monospace\"><span style=\"font-weight: bold\"> Non-trainable params: </span><span style=\"color: #00af00; text-decoration-color: #00af00\">2</span> (8.00 B)\n",
       "</pre>\n"
      ],
      "text/plain": [
       "\u001b[1m Non-trainable params: \u001b[0m\u001b[38;5;34m2\u001b[0m (8.00 B)\n"
      ]
     },
     "metadata": {},
     "output_type": "display_data"
    }
   ],
   "source": [
    "model.summary()"
   ]
  },
  {
   "cell_type": "code",
   "execution_count": 41,
   "id": "e933df2f",
   "metadata": {},
   "outputs": [],
   "source": [
    "start_lr = 0.00001\n",
    "min_lr = 0.0001\n",
    "max_lr = 0.00005\n",
    "batch_size = 10000\n",
    "\n",
    "\n",
    "ramup_epochs = 5\n",
    "sustain_epochs = 0\n",
    "\n",
    "exp_decay = 0.8\n",
    "\n",
    "def lrfn(epoch):\n",
    "    if epoch < ramup_epochs:\n",
    "        return (max_lr-start_lr)/ramup_epochs* epoch + start_lr\n",
    "    elif epoch <ramup_epochs+ sustain_epochs:\n",
    "        return max_lr\n",
    "    else:\n",
    "        return (max_lr-min_lr) * exp_decay ** (epoch-ramup_epochs-sustain_epochs) + min_lr\n",
    "        \n",
    "\n"
   ]
  },
  {
   "cell_type": "code",
   "execution_count": 42,
   "id": "35d9d851",
   "metadata": {},
   "outputs": [],
   "source": [
    "lr_callback = LearningRateScheduler(lambda epoch:lrfn(epoch), verbose=0)\n",
    "checkpoint_filepath = \"./weights.weights.h5\"\n",
    "\n",
    "model_checkpoint = ModelCheckpoint(filepath=checkpoint_filepath, save_weights_only=True, monitor=\"val_loss\", mode=\"min\", save_best_only=True)\n",
    "\n",
    "early_stopping = EarlyStopping(patience=3, monitor=\"val_loss\", mode=\"min\", restore_best_weights=True)\n",
    "\n"
   ]
  },
  {
   "cell_type": "code",
   "execution_count": 43,
   "id": "5b2fd05b",
   "metadata": {},
   "outputs": [],
   "source": [
    "my_callbacks = [model_checkpoint, lr_callback, early_stopping]\n"
   ]
  },
  {
   "cell_type": "markdown",
   "id": "f9b4560b",
   "metadata": {},
   "source": [
    "### MODEL TRAINING SECTION...."
   ]
  },
  {
   "cell_type": "code",
   "execution_count": 44,
   "id": "31ce5ea4",
   "metadata": {},
   "outputs": [
    {
     "name": "stdout",
     "output_type": "stream",
     "text": [
      "Epoch 1/20\n",
      "\u001b[1m325/325\u001b[0m \u001b[32m━━━━━━━━━━━━━━━━━━━━\u001b[0m\u001b[37m\u001b[0m \u001b[1m12s\u001b[0m 32ms/step - loss: 0.8030 - mae: 0.3826 - mse: 0.1981 - val_loss: 0.7451 - val_mae: 0.3698 - val_mse: 0.1781 - learning_rate: 1.0000e-05\n",
      "Epoch 2/20\n",
      "\u001b[1m325/325\u001b[0m \u001b[32m━━━━━━━━━━━━━━━━━━━━\u001b[0m\u001b[37m\u001b[0m \u001b[1m9s\u001b[0m 28ms/step - loss: 0.7995 - mae: 0.3813 - mse: 0.1967 - val_loss: 0.7897 - val_mae: 0.3772 - val_mse: 0.1931 - learning_rate: 1.8000e-05\n",
      "Epoch 3/20\n",
      "\u001b[1m325/325\u001b[0m \u001b[32m━━━━━━━━━━━━━━━━━━━━\u001b[0m\u001b[37m\u001b[0m \u001b[1m8s\u001b[0m 25ms/step - loss: 0.7935 - mae: 0.3790 - mse: 0.1943 - val_loss: 0.7903 - val_mae: 0.3771 - val_mse: 0.1932 - learning_rate: 2.6000e-05\n",
      "Epoch 4/20\n",
      "\u001b[1m325/325\u001b[0m \u001b[32m━━━━━━━━━━━━━━━━━━━━\u001b[0m\u001b[37m\u001b[0m \u001b[1m9s\u001b[0m 26ms/step - loss: 0.7849 - mae: 0.3757 - mse: 0.1909 - val_loss: 0.7868 - val_mae: 0.3762 - val_mse: 0.1919 - learning_rate: 3.4000e-05\n"
     ]
    }
   ],
   "source": [
    "history = model.fit(\n",
    "    x = X_train_array,\n",
    "    y=y_train,\n",
    "    batch_size=batch_size,\n",
    "    epochs=20,\n",
    "    verbose=1,\n",
    "    validation_data=(X_test_array, y_test),\n",
    "    callbacks= my_callbacks\n",
    "\n",
    ")"
   ]
  },
  {
   "cell_type": "code",
   "execution_count": 45,
   "id": "8f6398ad",
   "metadata": {},
   "outputs": [
    {
     "name": "stdout",
     "output_type": "stream",
     "text": [
      "X_train shape: (3245641,) (3245641,)\n",
      "y_train shape: (3245641,)\n",
      "y_test shape: (1000,)\n",
      "\n",
      "--- Sample values ---\n",
      "First 5 y_train values:\n",
      " 0    0.9\n",
      "1    0.7\n",
      "2    0.0\n",
      "3    0.0\n",
      "4    0.9\n",
      "Name: rating, dtype: float64\n"
     ]
    }
   ],
   "source": [
    "# Check the shapes\n",
    "print(\"X_train shape:\", X_train_array[0].shape, X_train_array[1].shape)\n",
    "print(\"y_train shape:\", y_train.shape)\n",
    "print(\"y_test shape:\", y_test.shape)\n",
    "print(\"\\n--- Sample values ---\")\n",
    "print(\"First 5 y_train values:\\n\", y_train[:5])"
   ]
  },
  {
   "cell_type": "markdown",
   "id": "1fc450f5",
   "metadata": {},
   "source": [
    "## VISUAL REPRESENTATION OF TRAINING VALIDATION RUN...."
   ]
  },
  {
   "cell_type": "code",
   "execution_count": 46,
   "id": "74b2d06d",
   "metadata": {},
   "outputs": [
    {
     "data": {
      "image/png": "[encoded data removed]",
      "text/plain": [
       "<Figure size 800x1200 with 3 Axes>"
      ]
     },
     "metadata": {},
     "output_type": "display_data"
    }
   ],
   "source": [
    "metrics = [\"loss\", \"mae\", \"mse\"]\n",
    "\n",
    "\n",
    "## Create subplots....\n",
    "\n",
    "fig, axes = plt.subplots(len(metrics), 1, figsize=(8, len(metrics) * 4))\n",
    "\n",
    "for i, metric in enumerate(metrics):\n",
    "    ax = axes[i]\n",
    "    ax.plot(history.history[metric][0:-2], marker=\"o\", label=f\"train {metric}\")\n",
    "    ax.plot(history.history[f\"val_{metric}\"][0:-2], marker=\"o\", label=f\"test {metric}\")\n",
    "    ax.set_title(f\"MODEL {metric.capitalize()}\")\n",
    "    ax.set_ylabel(metric.capitalize())\n",
    "    ax.set_xlabel(\"Epochs\")\n",
    "    ax.legend(loc=\"upper left\")\n",
    "    ax.grid(True)\n",
    "\n",
    "\n",
    "plt.tight_layout()\n",
    "plt.show()\n",
    "\n",
    "\n",
    "\n",
    "\n"
   ]
  },
  {
   "cell_type": "markdown",
   "id": "3490afd2",
   "metadata": {},
   "source": [
    "## EXTRACT THE WEIGHTS...."
   ]
  },
  {
   "cell_type": "code",
   "execution_count": 47,
   "id": "368bc7ce",
   "metadata": {},
   "outputs": [],
   "source": [
    "def extract_weights(name, model):\n",
    "    weight_layer = model.get_layer(name)\n",
    "    weights = weight_layer.get_weights()[0]\n",
    "    weights = weights/np.linalg.norm(weights, axis=1).reshape((-1,1))\n",
    "    return weights\n",
    "\n",
    "\n"
   ]
  },
  {
   "cell_type": "code",
   "execution_count": 48,
   "id": "bb436a5b",
   "metadata": {},
   "outputs": [],
   "source": [
    "anime_weights = extract_weights(\"anime_embedding\", model)"
   ]
  },
  {
   "cell_type": "code",
   "execution_count": 49,
   "id": "804d35d7",
   "metadata": {},
   "outputs": [],
   "source": [
    "user_weights = extract_weights(\"user_embedding\", model)"
   ]
  },
  {
   "cell_type": "code",
   "execution_count": 50,
   "id": "4e03ffbf",
   "metadata": {},
   "outputs": [
    {
     "data": {
      "text/plain": [
       "numpy.ndarray"
      ]
     },
     "execution_count": 50,
     "metadata": {},
     "output_type": "execute_result"
    }
   ],
   "source": [
    "type(anime_weights)"
   ]
  },
  {
   "cell_type": "code",
   "execution_count": null,
   "id": "ea83fafe",
   "metadata": {},
   "outputs": [],
   "source": []
  },
  {
   "cell_type": "markdown",
   "id": "c1140d87",
   "metadata": {},
   "source": [
    "#### READING THE ANIME DATA .CSV FILES...."
   ]
  },
  {
   "cell_type": "code",
   "execution_count": 51,
   "id": "f6bf6c86",
   "metadata": {},
   "outputs": [
    {
     "data": {
      "text/html": [
       "<div>\n",
       "<style scoped>\n",
       "    .dataframe tbody tr th:only-of-type {\n",
       "        vertical-align: middle;\n",
       "    }\n",
       "\n",
       "    .dataframe tbody tr th {\n",
       "        vertical-align: top;\n",
       "    }\n",
       "\n",
       "    .dataframe thead th {\n",
       "        text-align: right;\n",
       "    }\n",
       "</style>\n",
       "<table border=\"1\" class=\"dataframe\">\n",
       "  <thead>\n",
       "    <tr style=\"text-align: right;\">\n",
       "      <th></th>\n",
       "      <th>MAL_ID</th>\n",
       "      <th>Name</th>\n",
       "      <th>Score</th>\n",
       "      <th>Genres</th>\n",
       "      <th>English name</th>\n",
       "      <th>Japanese name</th>\n",
       "      <th>Type</th>\n",
       "      <th>Episodes</th>\n",
       "      <th>Aired</th>\n",
       "      <th>Premiered</th>\n",
       "      <th>...</th>\n",
       "      <th>Score-10</th>\n",
       "      <th>Score-9</th>\n",
       "      <th>Score-8</th>\n",
       "      <th>Score-7</th>\n",
       "      <th>Score-6</th>\n",
       "      <th>Score-5</th>\n",
       "      <th>Score-4</th>\n",
       "      <th>Score-3</th>\n",
       "      <th>Score-2</th>\n",
       "      <th>Score-1</th>\n",
       "    </tr>\n",
       "  </thead>\n",
       "  <tbody>\n",
       "    <tr>\n",
       "      <th>0</th>\n",
       "      <td>1</td>\n",
       "      <td>Cowboy Bebop</td>\n",
       "      <td>8.78</td>\n",
       "      <td>Action, Adventure, Comedy, Drama, Sci-Fi, Space</td>\n",
       "      <td>Cowboy Bebop</td>\n",
       "      <td>カウボーイビバップ</td>\n",
       "      <td>TV</td>\n",
       "      <td>26</td>\n",
       "      <td>Apr 3, 1998 to Apr 24, 1999</td>\n",
       "      <td>Spring 1998</td>\n",
       "      <td>...</td>\n",
       "      <td>229170.0</td>\n",
       "      <td>182126.0</td>\n",
       "      <td>131625.0</td>\n",
       "      <td>62330.0</td>\n",
       "      <td>20688.0</td>\n",
       "      <td>8904.0</td>\n",
       "      <td>3184.0</td>\n",
       "      <td>1357.0</td>\n",
       "      <td>741.0</td>\n",
       "      <td>1580.0</td>\n",
       "    </tr>\n",
       "    <tr>\n",
       "      <th>1</th>\n",
       "      <td>5</td>\n",
       "      <td>Cowboy Bebop: Tengoku no Tobira</td>\n",
       "      <td>8.39</td>\n",
       "      <td>Action, Drama, Mystery, Sci-Fi, Space</td>\n",
       "      <td>Cowboy Bebop:The Movie</td>\n",
       "      <td>カウボーイビバップ 天国の扉</td>\n",
       "      <td>Movie</td>\n",
       "      <td>1</td>\n",
       "      <td>Sep 1, 2001</td>\n",
       "      <td>Unknown</td>\n",
       "      <td>...</td>\n",
       "      <td>30043.0</td>\n",
       "      <td>49201.0</td>\n",
       "      <td>49505.0</td>\n",
       "      <td>22632.0</td>\n",
       "      <td>5805.0</td>\n",
       "      <td>1877.0</td>\n",
       "      <td>577.0</td>\n",
       "      <td>221.0</td>\n",
       "      <td>109.0</td>\n",
       "      <td>379.0</td>\n",
       "    </tr>\n",
       "  </tbody>\n",
       "</table>\n",
       "<p>2 rows × 35 columns</p>\n",
       "</div>"
      ],
      "text/plain": [
       "   MAL_ID                             Name Score  \\\n",
       "0       1                     Cowboy Bebop  8.78   \n",
       "1       5  Cowboy Bebop: Tengoku no Tobira  8.39   \n",
       "\n",
       "                                            Genres            English name  \\\n",
       "0  Action, Adventure, Comedy, Drama, Sci-Fi, Space            Cowboy Bebop   \n",
       "1            Action, Drama, Mystery, Sci-Fi, Space  Cowboy Bebop:The Movie   \n",
       "\n",
       "    Japanese name   Type Episodes                        Aired    Premiered  \\\n",
       "0       カウボーイビバップ     TV       26  Apr 3, 1998 to Apr 24, 1999  Spring 1998   \n",
       "1  カウボーイビバップ 天国の扉  Movie        1                  Sep 1, 2001      Unknown   \n",
       "\n",
       "   ...  Score-10   Score-9   Score-8  Score-7  Score-6 Score-5 Score-4  \\\n",
       "0  ...  229170.0  182126.0  131625.0  62330.0  20688.0  8904.0  3184.0   \n",
       "1  ...   30043.0   49201.0   49505.0  22632.0   5805.0  1877.0   577.0   \n",
       "\n",
       "   Score-3  Score-2  Score-1  \n",
       "0   1357.0    741.0   1580.0  \n",
       "1    221.0    109.0    379.0  \n",
       "\n",
       "[2 rows x 35 columns]"
      ]
     },
     "execution_count": 51,
     "metadata": {},
     "output_type": "execute_result"
    }
   ],
   "source": [
    "df= pd.read_csv(INPUT_DIR + \"/anime.csv\", low_memory=True)\n",
    "df.head(2)"
   ]
  },
  {
   "cell_type": "code",
   "execution_count": 52,
   "id": "e930d12f",
   "metadata": {},
   "outputs": [],
   "source": [
    "df = df.replace(\"Unknown\", np.nan)"
   ]
  },
  {
   "cell_type": "code",
   "execution_count": 53,
   "id": "45f55161",
   "metadata": {},
   "outputs": [],
   "source": [
    "def getAnimeName(anime_id):\n",
    "\n",
    "    try:\n",
    "        name = df[df.anime_id == anime_id].eng_version.values[0]\n",
    "        if name is np.nan:\n",
    "            name = df[df.anime_id == anime_id].Name.values[0]\n",
    "            \n",
    "    except:\n",
    "        print(\"Error\")\n",
    "    return name"
   ]
  },
  {
   "cell_type": "code",
   "execution_count": 54,
   "id": "0459723d",
   "metadata": {},
   "outputs": [],
   "source": [
    "df[\"anime_id\"] = df[\"MAL_ID\"] \n",
    "df[\"eng_version\"] = df[\"English name\"]\n",
    "df[\"eng_version\"] = df.anime_id.apply(lambda x: getAnimeName(x))"
   ]
  },
  {
   "cell_type": "code",
   "execution_count": 55,
   "id": "25910aee",
   "metadata": {},
   "outputs": [
    {
     "data": {
      "text/html": [
       "<div>\n",
       "<style scoped>\n",
       "    .dataframe tbody tr th:only-of-type {\n",
       "        vertical-align: middle;\n",
       "    }\n",
       "\n",
       "    .dataframe tbody tr th {\n",
       "        vertical-align: top;\n",
       "    }\n",
       "\n",
       "    .dataframe thead th {\n",
       "        text-align: right;\n",
       "    }\n",
       "</style>\n",
       "<table border=\"1\" class=\"dataframe\">\n",
       "  <thead>\n",
       "    <tr style=\"text-align: right;\">\n",
       "      <th></th>\n",
       "      <th>MAL_ID</th>\n",
       "      <th>Name</th>\n",
       "      <th>Score</th>\n",
       "      <th>Genres</th>\n",
       "      <th>English name</th>\n",
       "      <th>Japanese name</th>\n",
       "      <th>Type</th>\n",
       "      <th>Episodes</th>\n",
       "      <th>Aired</th>\n",
       "      <th>Premiered</th>\n",
       "      <th>...</th>\n",
       "      <th>Score-8</th>\n",
       "      <th>Score-7</th>\n",
       "      <th>Score-6</th>\n",
       "      <th>Score-5</th>\n",
       "      <th>Score-4</th>\n",
       "      <th>Score-3</th>\n",
       "      <th>Score-2</th>\n",
       "      <th>Score-1</th>\n",
       "      <th>anime_id</th>\n",
       "      <th>eng_version</th>\n",
       "    </tr>\n",
       "  </thead>\n",
       "  <tbody>\n",
       "    <tr>\n",
       "      <th>0</th>\n",
       "      <td>1</td>\n",
       "      <td>Cowboy Bebop</td>\n",
       "      <td>8.78</td>\n",
       "      <td>Action, Adventure, Comedy, Drama, Sci-Fi, Space</td>\n",
       "      <td>Cowboy Bebop</td>\n",
       "      <td>カウボーイビバップ</td>\n",
       "      <td>TV</td>\n",
       "      <td>26</td>\n",
       "      <td>Apr 3, 1998 to Apr 24, 1999</td>\n",
       "      <td>Spring 1998</td>\n",
       "      <td>...</td>\n",
       "      <td>131625.0</td>\n",
       "      <td>62330.0</td>\n",
       "      <td>20688.0</td>\n",
       "      <td>8904.0</td>\n",
       "      <td>3184.0</td>\n",
       "      <td>1357.0</td>\n",
       "      <td>741.0</td>\n",
       "      <td>1580.0</td>\n",
       "      <td>1</td>\n",
       "      <td>Cowboy Bebop</td>\n",
       "    </tr>\n",
       "    <tr>\n",
       "      <th>1</th>\n",
       "      <td>5</td>\n",
       "      <td>Cowboy Bebop: Tengoku no Tobira</td>\n",
       "      <td>8.39</td>\n",
       "      <td>Action, Drama, Mystery, Sci-Fi, Space</td>\n",
       "      <td>Cowboy Bebop:The Movie</td>\n",
       "      <td>カウボーイビバップ 天国の扉</td>\n",
       "      <td>Movie</td>\n",
       "      <td>1</td>\n",
       "      <td>Sep 1, 2001</td>\n",
       "      <td>NaN</td>\n",
       "      <td>...</td>\n",
       "      <td>49505.0</td>\n",
       "      <td>22632.0</td>\n",
       "      <td>5805.0</td>\n",
       "      <td>1877.0</td>\n",
       "      <td>577.0</td>\n",
       "      <td>221.0</td>\n",
       "      <td>109.0</td>\n",
       "      <td>379.0</td>\n",
       "      <td>5</td>\n",
       "      <td>Cowboy Bebop:The Movie</td>\n",
       "    </tr>\n",
       "  </tbody>\n",
       "</table>\n",
       "<p>2 rows × 37 columns</p>\n",
       "</div>"
      ],
      "text/plain": [
       "   MAL_ID                             Name Score  \\\n",
       "0       1                     Cowboy Bebop  8.78   \n",
       "1       5  Cowboy Bebop: Tengoku no Tobira  8.39   \n",
       "\n",
       "                                            Genres            English name  \\\n",
       "0  Action, Adventure, Comedy, Drama, Sci-Fi, Space            Cowboy Bebop   \n",
       "1            Action, Drama, Mystery, Sci-Fi, Space  Cowboy Bebop:The Movie   \n",
       "\n",
       "    Japanese name   Type Episodes                        Aired    Premiered  \\\n",
       "0       カウボーイビバップ     TV       26  Apr 3, 1998 to Apr 24, 1999  Spring 1998   \n",
       "1  カウボーイビバップ 天国の扉  Movie        1                  Sep 1, 2001          NaN   \n",
       "\n",
       "   ...   Score-8  Score-7  Score-6 Score-5 Score-4 Score-3 Score-2  Score-1  \\\n",
       "0  ...  131625.0  62330.0  20688.0  8904.0  3184.0  1357.0   741.0   1580.0   \n",
       "1  ...   49505.0  22632.0   5805.0  1877.0   577.0   221.0   109.0    379.0   \n",
       "\n",
       "   anime_id             eng_version  \n",
       "0         1            Cowboy Bebop  \n",
       "1         5  Cowboy Bebop:The Movie  \n",
       "\n",
       "[2 rows x 37 columns]"
      ]
     },
     "execution_count": 55,
     "metadata": {},
     "output_type": "execute_result"
    }
   ],
   "source": [
    "df.head(2)"
   ]
  },
  {
   "cell_type": "code",
   "execution_count": 56,
   "id": "69f04a63",
   "metadata": {},
   "outputs": [
    {
     "data": {
      "text/plain": [
       "'Arc the Lad'"
      ]
     },
     "execution_count": 56,
     "metadata": {},
     "output_type": "execute_result"
    }
   ],
   "source": [
    "getAnimeName(55)"
   ]
  },
  {
   "cell_type": "code",
   "execution_count": 57,
   "id": "23b1b50e",
   "metadata": {},
   "outputs": [],
   "source": [
    "### Sort the anime values now in the dataframe...\n",
    "\n",
    "df.sort_values(by=[\"Score\"],\n",
    "               inplace=True,\n",
    "               ascending=False,\n",
    "               kind=\"quicksort\",\n",
    "               na_position=\"last\")"
   ]
  },
  {
   "cell_type": "code",
   "execution_count": 58,
   "id": "22e58186",
   "metadata": {},
   "outputs": [
    {
     "data": {
      "text/plain": [
       "Index(['MAL_ID', 'Name', 'Score', 'Genres', 'English name', 'Japanese name',\n",
       "       'Type', 'Episodes', 'Aired', 'Premiered', 'Producers', 'Licensors',\n",
       "       'Studios', 'Source', 'Duration', 'Rating', 'Ranked', 'Popularity',\n",
       "       'Members', 'Favorites', 'Watching', 'Completed', 'On-Hold', 'Dropped',\n",
       "       'Plan to Watch', 'Score-10', 'Score-9', 'Score-8', 'Score-7', 'Score-6',\n",
       "       'Score-5', 'Score-4', 'Score-3', 'Score-2', 'Score-1', 'anime_id',\n",
       "       'eng_version'],\n",
       "      dtype='object')"
      ]
     },
     "execution_count": 58,
     "metadata": {},
     "output_type": "execute_result"
    }
   ],
   "source": [
    "df.columns"
   ]
  },
  {
   "cell_type": "code",
   "execution_count": 59,
   "id": "c9067d20",
   "metadata": {},
   "outputs": [],
   "source": [
    "df = df[[\"anime_id\", \"eng_version\", \"Score\", \"Genres\", \"Episodes\", \"Type\", \"Premiered\",\"Members\"]]"
   ]
  },
  {
   "cell_type": "code",
   "execution_count": 60,
   "id": "f395d9cc",
   "metadata": {},
   "outputs": [
    {
     "data": {
      "text/html": [
       "<div>\n",
       "<style scoped>\n",
       "    .dataframe tbody tr th:only-of-type {\n",
       "        vertical-align: middle;\n",
       "    }\n",
       "\n",
       "    .dataframe tbody tr th {\n",
       "        vertical-align: top;\n",
       "    }\n",
       "\n",
       "    .dataframe thead th {\n",
       "        text-align: right;\n",
       "    }\n",
       "</style>\n",
       "<table border=\"1\" class=\"dataframe\">\n",
       "  <thead>\n",
       "    <tr style=\"text-align: right;\">\n",
       "      <th></th>\n",
       "      <th>anime_id</th>\n",
       "      <th>eng_version</th>\n",
       "      <th>Score</th>\n",
       "      <th>Genres</th>\n",
       "      <th>Episodes</th>\n",
       "      <th>Type</th>\n",
       "      <th>Premiered</th>\n",
       "      <th>Members</th>\n",
       "    </tr>\n",
       "  </thead>\n",
       "  <tbody>\n",
       "    <tr>\n",
       "      <th>3971</th>\n",
       "      <td>5114</td>\n",
       "      <td>Fullmetal Alchemist:Brotherhood</td>\n",
       "      <td>9.19</td>\n",
       "      <td>Action, Military, Adventure, Comedy, Drama, Ma...</td>\n",
       "      <td>64</td>\n",
       "      <td>TV</td>\n",
       "      <td>Spring 2009</td>\n",
       "      <td>2248456</td>\n",
       "    </tr>\n",
       "    <tr>\n",
       "      <th>15926</th>\n",
       "      <td>40028</td>\n",
       "      <td>Attack on Titan Final Season</td>\n",
       "      <td>9.17</td>\n",
       "      <td>Action, Military, Mystery, Super Power, Drama,...</td>\n",
       "      <td>16</td>\n",
       "      <td>TV</td>\n",
       "      <td>Winter 2021</td>\n",
       "      <td>733260</td>\n",
       "    </tr>\n",
       "    <tr>\n",
       "      <th>5683</th>\n",
       "      <td>9253</td>\n",
       "      <td>Steins;Gate</td>\n",
       "      <td>9.11</td>\n",
       "      <td>Thriller, Sci-Fi</td>\n",
       "      <td>24</td>\n",
       "      <td>TV</td>\n",
       "      <td>Spring 2011</td>\n",
       "      <td>1771162</td>\n",
       "    </tr>\n",
       "    <tr>\n",
       "      <th>14963</th>\n",
       "      <td>38524</td>\n",
       "      <td>Attack on Titan Season 3 Part 2</td>\n",
       "      <td>9.1</td>\n",
       "      <td>Action, Drama, Fantasy, Military, Mystery, Sho...</td>\n",
       "      <td>10</td>\n",
       "      <td>TV</td>\n",
       "      <td>Spring 2019</td>\n",
       "      <td>1073626</td>\n",
       "    </tr>\n",
       "    <tr>\n",
       "      <th>9913</th>\n",
       "      <td>28977</td>\n",
       "      <td>Gintama Season 4</td>\n",
       "      <td>9.1</td>\n",
       "      <td>Action, Comedy, Historical, Parody, Samurai, S...</td>\n",
       "      <td>51</td>\n",
       "      <td>TV</td>\n",
       "      <td>Spring 2015</td>\n",
       "      <td>404121</td>\n",
       "    </tr>\n",
       "  </tbody>\n",
       "</table>\n",
       "</div>"
      ],
      "text/plain": [
       "       anime_id                      eng_version Score  \\\n",
       "3971       5114  Fullmetal Alchemist:Brotherhood  9.19   \n",
       "15926     40028     Attack on Titan Final Season  9.17   \n",
       "5683       9253                      Steins;Gate  9.11   \n",
       "14963     38524  Attack on Titan Season 3 Part 2   9.1   \n",
       "9913      28977                 Gintama Season 4   9.1   \n",
       "\n",
       "                                                  Genres Episodes Type  \\\n",
       "3971   Action, Military, Adventure, Comedy, Drama, Ma...       64   TV   \n",
       "15926  Action, Military, Mystery, Super Power, Drama,...       16   TV   \n",
       "5683                                    Thriller, Sci-Fi       24   TV   \n",
       "14963  Action, Drama, Fantasy, Military, Mystery, Sho...       10   TV   \n",
       "9913   Action, Comedy, Historical, Parody, Samurai, S...       51   TV   \n",
       "\n",
       "         Premiered  Members  \n",
       "3971   Spring 2009  2248456  \n",
       "15926  Winter 2021   733260  \n",
       "5683   Spring 2011  1771162  \n",
       "14963  Spring 2019  1073626  \n",
       "9913   Spring 2015   404121  "
      ]
     },
     "execution_count": 60,
     "metadata": {},
     "output_type": "execute_result"
    }
   ],
   "source": [
    "df.head()"
   ]
  },
  {
   "cell_type": "code",
   "execution_count": 61,
   "id": "35fa91ca",
   "metadata": {},
   "outputs": [],
   "source": [
    "'''This function searches for and returns anime data from a \n",
    "DataFrame based on flexible input types. If you pass an integer, \n",
    "it searches by anime_id; if you pass a string, it searches by the English anime name \n",
    "(eng_version). It essentially acts as a universal lookup function that can find anime \n",
    "records whether you know the ID number or just the name.'''\n",
    "\n",
    "\n",
    "\n",
    "def getAnimeFrame(anime,df):\n",
    "    if isinstance(anime, int):\n",
    "        return df[df.anime_id== anime]\n",
    "    if isinstance(anime, str):\n",
    "        return df[df.eng_version == anime]\n",
    "    \n",
    "    "
   ]
  },
  {
   "cell_type": "code",
   "execution_count": 62,
   "id": "11d17445",
   "metadata": {},
   "outputs": [
    {
     "data": {
      "text/html": [
       "<div>\n",
       "<style scoped>\n",
       "    .dataframe tbody tr th:only-of-type {\n",
       "        vertical-align: middle;\n",
       "    }\n",
       "\n",
       "    .dataframe tbody tr th {\n",
       "        vertical-align: top;\n",
       "    }\n",
       "\n",
       "    .dataframe thead th {\n",
       "        text-align: right;\n",
       "    }\n",
       "</style>\n",
       "<table border=\"1\" class=\"dataframe\">\n",
       "  <thead>\n",
       "    <tr style=\"text-align: right;\">\n",
       "      <th></th>\n",
       "      <th>anime_id</th>\n",
       "      <th>eng_version</th>\n",
       "      <th>Score</th>\n",
       "      <th>Genres</th>\n",
       "      <th>Episodes</th>\n",
       "      <th>Type</th>\n",
       "      <th>Premiered</th>\n",
       "      <th>Members</th>\n",
       "    </tr>\n",
       "  </thead>\n",
       "  <tbody>\n",
       "    <tr>\n",
       "      <th>427</th>\n",
       "      <td>456</td>\n",
       "      <td>Best Student Council</td>\n",
       "      <td>6.94</td>\n",
       "      <td>Comedy, School, Slice of Life</td>\n",
       "      <td>26</td>\n",
       "      <td>TV</td>\n",
       "      <td>Spring 2005</td>\n",
       "      <td>16907</td>\n",
       "    </tr>\n",
       "  </tbody>\n",
       "</table>\n",
       "</div>"
      ],
      "text/plain": [
       "     anime_id           eng_version Score                         Genres  \\\n",
       "427       456  Best Student Council  6.94  Comedy, School, Slice of Life   \n",
       "\n",
       "    Episodes Type    Premiered  Members  \n",
       "427       26   TV  Spring 2005    16907  "
      ]
     },
     "execution_count": 62,
     "metadata": {},
     "output_type": "execute_result"
    }
   ],
   "source": [
    "## Example....\n",
    "\n",
    "getAnimeFrame(456, df)"
   ]
  },
  {
   "cell_type": "code",
   "execution_count": 63,
   "id": "780f1bd4",
   "metadata": {},
   "outputs": [
    {
     "data": {
      "text/html": [
       "<div>\n",
       "<style scoped>\n",
       "    .dataframe tbody tr th:only-of-type {\n",
       "        vertical-align: middle;\n",
       "    }\n",
       "\n",
       "    .dataframe tbody tr th {\n",
       "        vertical-align: top;\n",
       "    }\n",
       "\n",
       "    .dataframe thead th {\n",
       "        text-align: right;\n",
       "    }\n",
       "</style>\n",
       "<table border=\"1\" class=\"dataframe\">\n",
       "  <thead>\n",
       "    <tr style=\"text-align: right;\">\n",
       "      <th></th>\n",
       "      <th>anime_id</th>\n",
       "      <th>eng_version</th>\n",
       "      <th>Score</th>\n",
       "      <th>Genres</th>\n",
       "      <th>Episodes</th>\n",
       "      <th>Type</th>\n",
       "      <th>Premiered</th>\n",
       "      <th>Members</th>\n",
       "    </tr>\n",
       "  </thead>\n",
       "  <tbody>\n",
       "    <tr>\n",
       "      <th>5683</th>\n",
       "      <td>9253</td>\n",
       "      <td>Steins;Gate</td>\n",
       "      <td>9.11</td>\n",
       "      <td>Thriller, Sci-Fi</td>\n",
       "      <td>24</td>\n",
       "      <td>TV</td>\n",
       "      <td>Spring 2011</td>\n",
       "      <td>1771162</td>\n",
       "    </tr>\n",
       "  </tbody>\n",
       "</table>\n",
       "</div>"
      ],
      "text/plain": [
       "      anime_id  eng_version Score            Genres Episodes Type  \\\n",
       "5683      9253  Steins;Gate  9.11  Thriller, Sci-Fi       24   TV   \n",
       "\n",
       "        Premiered  Members  \n",
       "5683  Spring 2011  1771162  "
      ]
     },
     "execution_count": 63,
     "metadata": {},
     "output_type": "execute_result"
    }
   ],
   "source": [
    "## Example using string value....\n",
    "\n",
    "getAnimeFrame(\"Steins;Gate\", df)"
   ]
  },
  {
   "cell_type": "markdown",
   "id": "4e5a79ff",
   "metadata": {},
   "source": [
    "### ANIME_WITH_SYNOPSIS.CSV "
   ]
  },
  {
   "cell_type": "code",
   "execution_count": 64,
   "id": "427154a8",
   "metadata": {},
   "outputs": [],
   "source": [
    "cols = [\"MAL_ID\", \"Name\", \"Genres\", \"sypnopsis\"]\n"
   ]
  },
  {
   "cell_type": "code",
   "execution_count": 65,
   "id": "3dd5f8f4",
   "metadata": {},
   "outputs": [],
   "source": [
    "synopsis_df = pd.read_csv(INPUT_DIR + \"/anime_with_synopsis.csv\", usecols=cols)"
   ]
  },
  {
   "cell_type": "code",
   "execution_count": 66,
   "id": "4d1a7b3c",
   "metadata": {},
   "outputs": [
    {
     "data": {
      "text/html": [
       "<div>\n",
       "<style scoped>\n",
       "    .dataframe tbody tr th:only-of-type {\n",
       "        vertical-align: middle;\n",
       "    }\n",
       "\n",
       "    .dataframe tbody tr th {\n",
       "        vertical-align: top;\n",
       "    }\n",
       "\n",
       "    .dataframe thead th {\n",
       "        text-align: right;\n",
       "    }\n",
       "</style>\n",
       "<table border=\"1\" class=\"dataframe\">\n",
       "  <thead>\n",
       "    <tr style=\"text-align: right;\">\n",
       "      <th></th>\n",
       "      <th>MAL_ID</th>\n",
       "      <th>Name</th>\n",
       "      <th>Genres</th>\n",
       "      <th>sypnopsis</th>\n",
       "    </tr>\n",
       "  </thead>\n",
       "  <tbody>\n",
       "    <tr>\n",
       "      <th>0</th>\n",
       "      <td>1</td>\n",
       "      <td>Cowboy Bebop</td>\n",
       "      <td>Action, Adventure, Comedy, Drama, Sci-Fi, Space</td>\n",
       "      <td>In the year 2071, humanity has colonized sever...</td>\n",
       "    </tr>\n",
       "  </tbody>\n",
       "</table>\n",
       "</div>"
      ],
      "text/plain": [
       "   MAL_ID          Name                                           Genres  \\\n",
       "0       1  Cowboy Bebop  Action, Adventure, Comedy, Drama, Sci-Fi, Space   \n",
       "\n",
       "                                           sypnopsis  \n",
       "0  In the year 2071, humanity has colonized sever...  "
      ]
     },
     "execution_count": 66,
     "metadata": {},
     "output_type": "execute_result"
    }
   ],
   "source": [
    "synopsis_df.head(1)"
   ]
  },
  {
   "cell_type": "code",
   "execution_count": 67,
   "id": "36c03838",
   "metadata": {},
   "outputs": [
    {
     "data": {
      "text/plain": [
       "Index(['MAL_ID', 'Name', 'Genres', 'sypnopsis'], dtype='object')"
      ]
     },
     "execution_count": 67,
     "metadata": {},
     "output_type": "execute_result"
    }
   ],
   "source": [
    "synopsis_df.columns"
   ]
  },
  {
   "cell_type": "code",
   "execution_count": 68,
   "id": "54918d32",
   "metadata": {},
   "outputs": [],
   "source": [
    "def getSynopsis(anime, synopsis_df):\n",
    "    if isinstance(anime,int):\n",
    "        return synopsis_df[synopsis_df.MAL_ID == anime].sypnopsis.values[0]\n",
    "    if isinstance(anime, str):\n",
    "        return synopsis_df[synopsis_df.Name == anime].sypnopsis.values[0]\n",
    "    \n",
    "    "
   ]
  },
  {
   "cell_type": "code",
   "execution_count": 69,
   "id": "e41d292d",
   "metadata": {},
   "outputs": [
    {
     "data": {
      "text/plain": [
       "\"Gabi Braun and Falco Grice have been training their entire lives to inherit one of the seven titans under Marley's control and aid their nation in eradicating the Eldians on Paradis. However, just as all seems well for the two cadets, their peace is suddenly shaken by the arrival of Eren Yeager and the remaining members of the Survey Corps. Having finally reached the Yeager family basement and learned about the dark history surrounding the titans, the Survey Corps has at long last found the answer they so desperately fought to uncover. With the truth now in their hands, the group set out for the world beyond the walls. In Shingeki no Kyojin: The Final Season , two utterly different worlds collide as each party pursues its own agenda in the long-awaited conclusion to Paradis' fight for freedom.\""
      ]
     },
     "execution_count": 69,
     "metadata": {},
     "output_type": "execute_result"
    }
   ],
   "source": [
    "getSynopsis(40028, synopsis_df)"
   ]
  },
  {
   "cell_type": "code",
   "execution_count": 70,
   "id": "70a18fbe",
   "metadata": {},
   "outputs": [
    {
     "data": {
      "text/plain": [
       "'The self-proclaimed mad scientist Rintarou Okabe rents out a room in a rickety old building in Akihabara, where he indulges himself in his hobby of inventing prospective \"future gadgets\" with fellow lab members: Mayuri Shiina, his air-headed childhood friend, and Hashida Itaru, a perverted hacker nicknamed \"Daru.\" The three pass the time by tinkering with their most promising contraption yet, a machine dubbed the \"Phone Microwave,\" which performs the strange function of morphing bananas into piles of green gel. Though miraculous in itself, the phenomenon doesn\\'t provide anything concrete in Okabe\\'s search for a scientific breakthrough; that is, until the lab members are spurred into action by a string of mysterious happenings before stumbling upon an unexpected success—the Phone Microwave can send emails to the past, altering the flow of history. Adapted from the critically acclaimed visual novel by 5pb. and Nitroplus, Steins;Gate takes Okabe through the depths of scientific theory and practicality. Forced across the diverging threads of past and present, Okabe must shoulder the burdens that come with holding the key to the realm of time.'"
      ]
     },
     "execution_count": 70,
     "metadata": {},
     "output_type": "execute_result"
    }
   ],
   "source": [
    "getSynopsis(\"Steins;Gate\", synopsis_df)\n"
   ]
  },
  {
   "cell_type": "markdown",
   "id": "9e4e21a3",
   "metadata": {},
   "source": [
    "### CONTENT/BASED RECOMMENDATION"
   ]
  },
  {
   "cell_type": "code",
   "execution_count": 71,
   "id": "80ea826c",
   "metadata": {},
   "outputs": [],
   "source": [
    "pd.set_option(\"max_colwidth\", None)"
   ]
  },
  {
   "cell_type": "code",
   "execution_count": 72,
   "id": "c34f24a0",
   "metadata": {},
   "outputs": [],
   "source": [
    "'''This function is a recommendation system that finds anime similar to one \n",
    "you already like by comparing their mathematical \"feature fingerprints\" (stored in the weights array). \n",
    "It takes an anime name as input, calculates which other anime have the most similar characteristics using dot product similarity, \n",
    "and returns a ranked list of recommendations with their similarity scores.'''\n",
    "\n",
    "\n",
    "def find_similiar_animes(name, anime_weights, anime2anime_encoded, anime2anime_decoded, df, synopsis_df, n=10, return_dist=False, neg=False):\n",
    "    index = getAnimeFrame(name, df).anime_id.values[0]\n",
    "    encoded_index = anime2anime_encoded.get(index)\n",
    "\n",
    "    if encoded_index is None:\n",
    "        raise ValueError(f\"Encoded index not found for anime ID: {index}\")\n",
    "    \n",
    "    weights = anime_weights\n",
    "\n",
    "    ## Compute the similiarity distances....\n",
    "\n",
    "    dists = np.dot(weights, weights[encoded_index])   ## Make sure weights[encoded_index] is a 1D array\n",
    "    sorted_dists = np.argsort(dists)\n",
    "\n",
    "    n = n+1\n",
    "\n",
    "    ### Select  closest or farthest based in \"neg\" flag...\n",
    "    if neg:\n",
    "        closest = sorted_dists[:n]\n",
    "    else:\n",
    "        closest = sorted_dists[-n:]\n",
    "\n",
    "\n",
    "    ## Return distances and closest indices if requested....\n",
    "\n",
    "    if return_dist:\n",
    "        return dists, closest\n",
    "    \n",
    "    ## Buld similiarity array....\n",
    "    SimilarityArr = []\n",
    "    for close in closest:\n",
    "        decoded_id = anime2anime_decoded.get(close)\n",
    "\n",
    "\n",
    "        anime_frame = getAnimeFrame(decoded_id, df)\n",
    "\n",
    "        anime_name = anime_frame.eng_version.values[0]\n",
    "        genre = anime_frame.Genres.values[0]\n",
    "        similarity = dists[close]\n",
    "\n",
    "        SimilarityArr.append({\n",
    "            \"anime_id\": decoded_id,\n",
    "            \"name\": anime_name,\n",
    "            \"similarity\": similarity,\n",
    "            \"genre\": genre,\n",
    "        })\n",
    "\n",
    "## Now I create a dataframe using Pandas with the results and sort by similarity...\n",
    "\n",
    "    Frame = pd.DataFrame(SimilarityArr).sort_values(by=\"similarity\", ascending=False)\n",
    "    return Frame[Frame.anime_id != index].drop([\"anime_id\"], axis=1)\n"
   ]
  },
  {
   "cell_type": "code",
   "execution_count": 73,
   "id": "1f4ef3ba",
   "metadata": {},
   "outputs": [
    {
     "data": {
      "text/html": [
       "<div>\n",
       "<style scoped>\n",
       "    .dataframe tbody tr th:only-of-type {\n",
       "        vertical-align: middle;\n",
       "    }\n",
       "\n",
       "    .dataframe tbody tr th {\n",
       "        vertical-align: top;\n",
       "    }\n",
       "\n",
       "    .dataframe thead th {\n",
       "        text-align: right;\n",
       "    }\n",
       "</style>\n",
       "<table border=\"1\" class=\"dataframe\">\n",
       "  <thead>\n",
       "    <tr style=\"text-align: right;\">\n",
       "      <th></th>\n",
       "      <th>name</th>\n",
       "      <th>similarity</th>\n",
       "      <th>genre</th>\n",
       "    </tr>\n",
       "  </thead>\n",
       "  <tbody>\n",
       "    <tr>\n",
       "      <th>9</th>\n",
       "      <td>RoboCop</td>\n",
       "      <td>0.374026</td>\n",
       "      <td>Dementia, Music</td>\n",
       "    </tr>\n",
       "    <tr>\n",
       "      <th>8</th>\n",
       "      <td>Ah My Buddha Katsu</td>\n",
       "      <td>0.346800</td>\n",
       "      <td>Comedy, Ecchi, Harem, Romance, Supernatural</td>\n",
       "    </tr>\n",
       "    <tr>\n",
       "      <th>7</th>\n",
       "      <td>Accel World</td>\n",
       "      <td>0.320903</td>\n",
       "      <td>Action, Game, Sci-Fi, Romance, School</td>\n",
       "    </tr>\n",
       "    <tr>\n",
       "      <th>6</th>\n",
       "      <td>JoJo's Bizarre Adventure:Stardust Crusaders - Battle in Egypt</td>\n",
       "      <td>0.306871</td>\n",
       "      <td>Action, Adventure, Supernatural, Drama, Shounen</td>\n",
       "    </tr>\n",
       "    <tr>\n",
       "      <th>5</th>\n",
       "      <td>Dolphin Ouji</td>\n",
       "      <td>0.298150</td>\n",
       "      <td>Action, Adventure, Kids, Sci-Fi</td>\n",
       "    </tr>\n",
       "    <tr>\n",
       "      <th>4</th>\n",
       "      <td>Möbius Dust</td>\n",
       "      <td>0.290633</td>\n",
       "      <td>Action, Game, Kids</td>\n",
       "    </tr>\n",
       "    <tr>\n",
       "      <th>3</th>\n",
       "      <td>JoJo no Kimyou na Bouken Part 5: Ougon no Kaze Recaps</td>\n",
       "      <td>0.285168</td>\n",
       "      <td>Action, Adventure, Shounen</td>\n",
       "    </tr>\n",
       "    <tr>\n",
       "      <th>2</th>\n",
       "      <td>Hakumei to Mikochi: Neji to Bed to Irori to Bakuchi</td>\n",
       "      <td>0.278535</td>\n",
       "      <td>Slice of Life, Fantasy, Seinen</td>\n",
       "    </tr>\n",
       "    <tr>\n",
       "      <th>1</th>\n",
       "      <td>Chou Denji Machine Voltes V</td>\n",
       "      <td>0.277800</td>\n",
       "      <td>Action, Sci-Fi, Adventure, Drama, Mecha, Shounen</td>\n",
       "    </tr>\n",
       "    <tr>\n",
       "      <th>0</th>\n",
       "      <td>Zoobles!</td>\n",
       "      <td>0.277751</td>\n",
       "      <td>Kids</td>\n",
       "    </tr>\n",
       "  </tbody>\n",
       "</table>\n",
       "</div>"
      ],
      "text/plain": [
       "                                                            name  similarity  \\\n",
       "9                                                        RoboCop    0.374026   \n",
       "8                                             Ah My Buddha Katsu    0.346800   \n",
       "7                                                    Accel World    0.320903   \n",
       "6  JoJo's Bizarre Adventure:Stardust Crusaders - Battle in Egypt    0.306871   \n",
       "5                                                   Dolphin Ouji    0.298150   \n",
       "4                                                    Möbius Dust    0.290633   \n",
       "3          JoJo no Kimyou na Bouken Part 5: Ougon no Kaze Recaps    0.285168   \n",
       "2            Hakumei to Mikochi: Neji to Bed to Irori to Bakuchi    0.278535   \n",
       "1                                    Chou Denji Machine Voltes V    0.277800   \n",
       "0                                                       Zoobles!    0.277751   \n",
       "\n",
       "                                              genre  \n",
       "9                                   Dementia, Music  \n",
       "8       Comedy, Ecchi, Harem, Romance, Supernatural  \n",
       "7             Action, Game, Sci-Fi, Romance, School  \n",
       "6   Action, Adventure, Supernatural, Drama, Shounen  \n",
       "5                   Action, Adventure, Kids, Sci-Fi  \n",
       "4                                Action, Game, Kids  \n",
       "3                        Action, Adventure, Shounen  \n",
       "2                    Slice of Life, Fantasy, Seinen  \n",
       "1  Action, Sci-Fi, Adventure, Drama, Mecha, Shounen  \n",
       "0                                              Kids  "
      ]
     },
     "execution_count": 73,
     "metadata": {},
     "output_type": "execute_result"
    }
   ],
   "source": [
    "find_similiar_animes(\n",
    "    \"Steins;Gate\",\n",
    "    anime_weights,\n",
    "    anime2anime_encoded,\n",
    "    anime2anime_decoded,\n",
    "    df,\n",
    "    synopsis_df,\n",
    ")"
   ]
  },
  {
   "cell_type": "markdown",
   "id": "bc3d0599",
   "metadata": {},
   "source": [
    "### USER BASED RECOMMENDATION SECTION"
   ]
  },
  {
   "cell_type": "code",
   "execution_count": 74,
   "id": "e5cd34e4",
   "metadata": {},
   "outputs": [],
   "source": [
    "def find_similar_users(item_input, user_weights, user2user_encoded, user2user_decoded, n=10, return_dist=False, neg=False):\n",
    "\n",
    "    try:\n",
    "        index=item_input\n",
    "        encoded_index = user2user_encoded.get(index)\n",
    "\n",
    "        weights = user_weights\n",
    "\n",
    "        dists = np.dot(weights, weights[encoded_index])\n",
    "        sorted_dists = np.argsort(dists)\n",
    "\n",
    "        n=n+1\n",
    "\n",
    "        if neg:\n",
    "            closest = sorted_dists[:n]\n",
    "        else:\n",
    "            closest = sorted_dists[-n:]\n",
    "\n",
    "        if return_dist:\n",
    "            return dists, closest\n",
    "        \n",
    "        SimilarityArr = []\n",
    "\n",
    "        for close in closest:\n",
    "            similarity = dists[close]\n",
    "\n",
    "            if isinstance(item_input, int):\n",
    "                decoded_id = user2user_decoded.get(close)\n",
    "                SimilarityAss.append({\n",
    "                    \"similar_users\": decoded_id,\n",
    "                    \"similarity\": similarity\n",
    "                })\n",
    "\n",
    "        similar_users = pd.DataFrame(SimilarityArr).sort_values(by=\"similarity\", ascending=False)\n",
    "        similar_users = similar_users[similar_users.similar_user != item_input]\n",
    "        return similar_users\n",
    "    except Exception as e:\n",
    "        print(\"Error occured dumbass.\", e)\n",
    "    "
   ]
  },
  {
   "cell_type": "code",
   "execution_count": 75,
   "id": "752ee9e4",
   "metadata": {},
   "outputs": [
    {
     "name": "stdout",
     "output_type": "stream",
     "text": [
      "Error occured dumbass. shapes (4203,128) and (1,4203,128) not aligned: 128 (dim 1) != 4203 (dim 1)\n"
     ]
    }
   ],
   "source": [
    "find_similar_users(int(11889), user_weights, user2user_encoded, user2user_decoded)"
   ]
  },
  {
   "cell_type": "markdown",
   "id": "94b85706",
   "metadata": {},
   "source": [
    "### WORD COUNT USING A \"Word Cloud\" for visual"
   ]
  },
  {
   "cell_type": "code",
   "execution_count": 76,
   "id": "e4458a09",
   "metadata": {},
   "outputs": [],
   "source": [
    "def showWordCloud(all_genres):\n",
    "    genres_cloud = WordCloud(width=700, height=400, background_color='white',colormap='gnuplot').generate_from_frequencies(all_genres)\n",
    "    plt.figure(figsize=(10,8))\n",
    "    plt.imshow(genres_cloud, interpolation=\"bilinear\")\n",
    "    plt.axis(\"off\")\n",
    "    plt.show()\n",
    "    "
   ]
  },
  {
   "cell_type": "code",
   "execution_count": 77,
   "id": "1361dd3a",
   "metadata": {},
   "outputs": [],
   "source": [
    "from collections import defaultdict"
   ]
  },
  {
   "cell_type": "code",
   "execution_count": 78,
   "id": "3167ab2c",
   "metadata": {},
   "outputs": [
    {
     "data": {
      "text/html": [
       "<div>\n",
       "<style scoped>\n",
       "    .dataframe tbody tr th:only-of-type {\n",
       "        vertical-align: middle;\n",
       "    }\n",
       "\n",
       "    .dataframe tbody tr th {\n",
       "        vertical-align: top;\n",
       "    }\n",
       "\n",
       "    .dataframe thead th {\n",
       "        text-align: right;\n",
       "    }\n",
       "</style>\n",
       "<table border=\"1\" class=\"dataframe\">\n",
       "  <thead>\n",
       "    <tr style=\"text-align: right;\">\n",
       "      <th></th>\n",
       "      <th>anime_id</th>\n",
       "      <th>eng_version</th>\n",
       "      <th>Score</th>\n",
       "      <th>Genres</th>\n",
       "      <th>Episodes</th>\n",
       "      <th>Type</th>\n",
       "      <th>Premiered</th>\n",
       "      <th>Members</th>\n",
       "    </tr>\n",
       "  </thead>\n",
       "  <tbody>\n",
       "    <tr>\n",
       "      <th>3971</th>\n",
       "      <td>5114</td>\n",
       "      <td>Fullmetal Alchemist:Brotherhood</td>\n",
       "      <td>9.19</td>\n",
       "      <td>Action, Military, Adventure, Comedy, Drama, Magic, Fantasy, Shounen</td>\n",
       "      <td>64</td>\n",
       "      <td>TV</td>\n",
       "      <td>Spring 2009</td>\n",
       "      <td>2248456</td>\n",
       "    </tr>\n",
       "  </tbody>\n",
       "</table>\n",
       "</div>"
      ],
      "text/plain": [
       "      anime_id                      eng_version Score  \\\n",
       "3971      5114  Fullmetal Alchemist:Brotherhood  9.19   \n",
       "\n",
       "                                                                   Genres  \\\n",
       "3971  Action, Military, Adventure, Comedy, Drama, Magic, Fantasy, Shounen   \n",
       "\n",
       "     Episodes Type    Premiered  Members  \n",
       "3971       64   TV  Spring 2009  2248456  "
      ]
     },
     "execution_count": 78,
     "metadata": {},
     "output_type": "execute_result"
    }
   ],
   "source": [
    "df.head(1)"
   ]
  },
  {
   "cell_type": "code",
   "execution_count": 79,
   "id": "57bc2b06",
   "metadata": {},
   "outputs": [],
   "source": [
    "def getFavGenre(frame, plot=False):\n",
    "    frame.dropna(inplace=False)\n",
    "    all_genres = defaultdict(int)\n",
    "\n",
    "    genres_list = []\n",
    "    for genres in frame[\"Genres\"]:\n",
    "        if isinstance(genres, str):\n",
    "            for genre in genres.split(','):\n",
    "                genres_list.append(genre)\n",
    "                all_genres[genre.strip()] += 1\n",
    "\n",
    "    if plot:\n",
    "        showWordCloud(all_genres)\n",
    "\n",
    "    return genres_list\n",
    "\n",
    "\n"
   ]
  },
  {
   "cell_type": "code",
   "execution_count": 80,
   "id": "9fdc8b9d",
   "metadata": {},
   "outputs": [
    {
     "data": {
      "text/html": [
       "<div>\n",
       "<style scoped>\n",
       "    .dataframe tbody tr th:only-of-type {\n",
       "        vertical-align: middle;\n",
       "    }\n",
       "\n",
       "    .dataframe tbody tr th {\n",
       "        vertical-align: top;\n",
       "    }\n",
       "\n",
       "    .dataframe thead th {\n",
       "        text-align: right;\n",
       "    }\n",
       "</style>\n",
       "<table border=\"1\" class=\"dataframe\">\n",
       "  <thead>\n",
       "    <tr style=\"text-align: right;\">\n",
       "      <th></th>\n",
       "      <th>user_id</th>\n",
       "      <th>anime_id</th>\n",
       "      <th>rating</th>\n",
       "      <th>user</th>\n",
       "      <th>anime</th>\n",
       "    </tr>\n",
       "  </thead>\n",
       "  <tbody>\n",
       "    <tr>\n",
       "      <th>0</th>\n",
       "      <td>457</td>\n",
       "      <td>18153</td>\n",
       "      <td>0.9</td>\n",
       "      <td>120</td>\n",
       "      <td>1377</td>\n",
       "    </tr>\n",
       "    <tr>\n",
       "      <th>1</th>\n",
       "      <td>4903</td>\n",
       "      <td>20507</td>\n",
       "      <td>0.7</td>\n",
       "      <td>1195</td>\n",
       "      <td>1216</td>\n",
       "    </tr>\n",
       "  </tbody>\n",
       "</table>\n",
       "</div>"
      ],
      "text/plain": [
       "   user_id  anime_id  rating  user  anime\n",
       "0      457     18153     0.9   120   1377\n",
       "1     4903     20507     0.7  1195   1216"
      ]
     },
     "execution_count": 80,
     "metadata": {},
     "output_type": "execute_result"
    }
   ],
   "source": [
    "rating_df.head(2)\n",
    "\n"
   ]
  },
  {
   "cell_type": "code",
   "execution_count": 81,
   "id": "5b4d5d40",
   "metadata": {},
   "outputs": [],
   "source": [
    "def get_user_preferences(user_id, rating_df, df, plot=False):\n",
    "    animes_watched_by_user = rating_df[rating_df.user_id == user_id]\n",
    "\n",
    "    user_rating_percentile = np.percentile(animes_watched_by_user.rating, 75)\n",
    "\n",
    "    animes_watched_by_user = animes_watched_by_user[animes_watched_by_user.rating >= user_rating_percentile]\n",
    "\n",
    "    top_animes_user = (animes_watched_by_user.sort_values(by=\"rating\", ascending= False).anime_id.values)\n",
    "\n",
    "    anime_df_rows = df[df[\"anime_id\"].isin(top_animes_user)]\n",
    "    anime_df_rows = anime_df_rows[[\"eng_version\", \"Genres\"]]\n",
    "\n",
    "    if plot:\n",
    "        getFavGenre(anime_df_rows, plot)\n",
    "\n",
    "    return anime_df_rows"
   ]
  },
  {
   "cell_type": "code",
   "execution_count": 82,
   "id": "437bf81e",
   "metadata": {},
   "outputs": [
    {
     "data": {
      "image/png": "[encoded data removed]",
      "text/plain": [
       "<Figure size 1000x800 with 1 Axes>"
      ]
     },
     "metadata": {},
     "output_type": "display_data"
    },
    {
     "data": {
      "text/html": [
       "<div>\n",
       "<style scoped>\n",
       "    .dataframe tbody tr th:only-of-type {\n",
       "        vertical-align: middle;\n",
       "    }\n",
       "\n",
       "    .dataframe tbody tr th {\n",
       "        vertical-align: top;\n",
       "    }\n",
       "\n",
       "    .dataframe thead th {\n",
       "        text-align: right;\n",
       "    }\n",
       "</style>\n",
       "<table border=\"1\" class=\"dataframe\">\n",
       "  <thead>\n",
       "    <tr style=\"text-align: right;\">\n",
       "      <th></th>\n",
       "      <th>eng_version</th>\n",
       "      <th>Genres</th>\n",
       "    </tr>\n",
       "  </thead>\n",
       "  <tbody>\n",
       "    <tr>\n",
       "      <th>3971</th>\n",
       "      <td>Fullmetal Alchemist:Brotherhood</td>\n",
       "      <td>Action, Military, Adventure, Comedy, Drama, Magic, Fantasy, Shounen</td>\n",
       "    </tr>\n",
       "    <tr>\n",
       "      <th>9913</th>\n",
       "      <td>Gintama Season 4</td>\n",
       "      <td>Action, Comedy, Historical, Parody, Samurai, Sci-Fi, Shounen</td>\n",
       "    </tr>\n",
       "    <tr>\n",
       "      <th>6474</th>\n",
       "      <td>Hunter x Hunter</td>\n",
       "      <td>Action, Adventure, Fantasy, Shounen, Super Power</td>\n",
       "    </tr>\n",
       "    <tr>\n",
       "      <th>6006</th>\n",
       "      <td>Gintama Season 2</td>\n",
       "      <td>Action, Sci-Fi, Comedy, Historical, Parody, Samurai, Shounen</td>\n",
       "    </tr>\n",
       "    <tr>\n",
       "      <th>741</th>\n",
       "      <td>Legend of the Galactic Heroes</td>\n",
       "      <td>Military, Sci-Fi, Space, Drama</td>\n",
       "    </tr>\n",
       "    <tr>\n",
       "      <th>...</th>\n",
       "      <td>...</td>\n",
       "      <td>...</td>\n",
       "    </tr>\n",
       "    <tr>\n",
       "      <th>2575</th>\n",
       "      <td>Shootfighter Tekken</td>\n",
       "      <td>Action, Martial Arts, Shounen</td>\n",
       "    </tr>\n",
       "    <tr>\n",
       "      <th>8064</th>\n",
       "      <td>Samurai Flamenco</td>\n",
       "      <td>Action, Comedy, Parody, Super Power</td>\n",
       "    </tr>\n",
       "    <tr>\n",
       "      <th>510</th>\n",
       "      <td>Venus Wars</td>\n",
       "      <td>Action, Sci-Fi, Adventure, Space</td>\n",
       "    </tr>\n",
       "    <tr>\n",
       "      <th>6864</th>\n",
       "      <td>Saint Seiya Omega</td>\n",
       "      <td>Action, Adventure, Fantasy, Shounen</td>\n",
       "    </tr>\n",
       "    <tr>\n",
       "      <th>9796</th>\n",
       "      <td>Garo:Crimson Moon</td>\n",
       "      <td>Action, Demons, Fantasy, Magic, Supernatural</td>\n",
       "    </tr>\n",
       "  </tbody>\n",
       "</table>\n",
       "<p>190 rows × 2 columns</p>\n",
       "</div>"
      ],
      "text/plain": [
       "                          eng_version  \\\n",
       "3971  Fullmetal Alchemist:Brotherhood   \n",
       "9913                 Gintama Season 4   \n",
       "6474                  Hunter x Hunter   \n",
       "6006                 Gintama Season 2   \n",
       "741     Legend of the Galactic Heroes   \n",
       "...                               ...   \n",
       "2575              Shootfighter Tekken   \n",
       "8064                 Samurai Flamenco   \n",
       "510                        Venus Wars   \n",
       "6864                Saint Seiya Omega   \n",
       "9796                Garo:Crimson Moon   \n",
       "\n",
       "                                                                   Genres  \n",
       "3971  Action, Military, Adventure, Comedy, Drama, Magic, Fantasy, Shounen  \n",
       "9913         Action, Comedy, Historical, Parody, Samurai, Sci-Fi, Shounen  \n",
       "6474                     Action, Adventure, Fantasy, Shounen, Super Power  \n",
       "6006         Action, Sci-Fi, Comedy, Historical, Parody, Samurai, Shounen  \n",
       "741                                        Military, Sci-Fi, Space, Drama  \n",
       "...                                                                   ...  \n",
       "2575                                        Action, Martial Arts, Shounen  \n",
       "8064                                  Action, Comedy, Parody, Super Power  \n",
       "510                                      Action, Sci-Fi, Adventure, Space  \n",
       "6864                                  Action, Adventure, Fantasy, Shounen  \n",
       "9796                         Action, Demons, Fantasy, Magic, Supernatural  \n",
       "\n",
       "[190 rows x 2 columns]"
      ]
     },
     "execution_count": 82,
     "metadata": {},
     "output_type": "execute_result"
    }
   ],
   "source": [
    "get_user_preferences(11880, rating_df, df, plot=True)"
   ]
  },
  {
   "cell_type": "code",
   "execution_count": 83,
   "id": "a294f24a",
   "metadata": {},
   "outputs": [],
   "source": [
    "def get_user_recommendations(similiar_users, user_pref, df, synopsis_df, rating_df, n=10):\n",
    "\n",
    "    recommended_animes = []\n",
    "    anime_list = []\n",
    "\n",
    "    for user_id in similiar_users.simliar_users.values:\n",
    "        pref_list = get_user_preferences(int(user_id), rating_df, df)\n",
    "\n",
    "        pref_list = pref_list[~pref_list.eng_version.isin(user_pref.eng_version.values)]\n",
    "\n",
    "        if not pref_list.empty:\n",
    "            anime_list.append(pref_list.eng_version.values)\n",
    "\n",
    "    if anime_list:\n",
    "        anime_list = pd.DataFrame(anime_list)\n",
    "\n",
    "        sorted_list = pd.DataFrame(pd.Series(anime_list.values.ravel()).value_counts()).head(n)\n",
    "\n",
    "        for i, anime_name in enumerate(sorted_list.index):\n",
    "            n_user_pref =sorted_list[sorted_list.index == anime_name].values[0][0]\n",
    "\n",
    "            if isinstance(anime_name, str):\n",
    "                frame = getAnimeFrame(anime_name, df)\n",
    "                anime_id =frame.anime_id.values[0]\n",
    "                genre = frame.Genres.values[0]\n",
    "                synopsis = getSynopsis(int(anime_id), synopsis_df)\n",
    "\n",
    "                recommended_animes.append({\n",
    "                    \"n\": n_user_pref,\n",
    "                    \"anime_name\": anime_name,\n",
    "                    \"Genres\": genre,\n",
    "                    \"Synopsis\": synopsis\n",
    "                })\n",
    "    return pd.DataFrame(recommended_animes).head(n)"
   ]
  },
  {
   "cell_type": "code",
   "execution_count": 90,
   "id": "12ee2cd9",
   "metadata": {},
   "outputs": [
    {
     "name": "stdout",
     "output_type": "stream",
     "text": [
      "Error occured dumbass. name 'SimilarityAss' is not defined\n"
     ]
    }
   ],
   "source": [
    "similiar_users = find_similar_users(int(11880), user_weights, user2user_encoded, user2user_decoded)\n"
   ]
  },
  {
   "cell_type": "code",
   "execution_count": 87,
   "id": "2721de7a",
   "metadata": {},
   "outputs": [],
   "source": [
    "user_pref = get_user_preferences(11880, rating_df, df, plot= False)\n"
   ]
  },
  {
   "cell_type": "code",
   "execution_count": 91,
   "id": "a7366321",
   "metadata": {},
   "outputs": [
    {
     "ename": "AttributeError",
     "evalue": "'NoneType' object has no attribute 'simliar_users'",
     "output_type": "error",
     "traceback": [
      "\u001b[31m---------------------------------------------------------------------------\u001b[39m",
      "\u001b[31mAttributeError\u001b[39m                            Traceback (most recent call last)",
      "\u001b[36mCell\u001b[39m\u001b[36m \u001b[39m\u001b[32mIn[91]\u001b[39m\u001b[32m, line 1\u001b[39m\n\u001b[32m----> \u001b[39m\u001b[32m1\u001b[39m \u001b[43mget_user_recommendations\u001b[49m\u001b[43m(\u001b[49m\u001b[43msimiliar_users\u001b[49m\u001b[43m,\u001b[49m\u001b[43m \u001b[49m\u001b[43muser_pref\u001b[49m\u001b[43m,\u001b[49m\u001b[43m \u001b[49m\u001b[43mdf\u001b[49m\u001b[43m,\u001b[49m\u001b[43m \u001b[49m\u001b[43msynopsis_df\u001b[49m\u001b[43m,\u001b[49m\u001b[43m \u001b[49m\u001b[43mrating_df\u001b[49m\u001b[43m,\u001b[49m\u001b[43m \u001b[49m\u001b[43mn\u001b[49m\u001b[43m=\u001b[49m\u001b[32;43m3\u001b[39;49m\u001b[43m)\u001b[49m\n",
      "\u001b[36mCell\u001b[39m\u001b[36m \u001b[39m\u001b[32mIn[83]\u001b[39m\u001b[32m, line 6\u001b[39m, in \u001b[36mget_user_recommendations\u001b[39m\u001b[34m(similiar_users, user_pref, df, synopsis_df, rating_df, n)\u001b[39m\n\u001b[32m      3\u001b[39m recommended_animes = []\n\u001b[32m      4\u001b[39m anime_list = []\n\u001b[32m----> \u001b[39m\u001b[32m6\u001b[39m \u001b[38;5;28;01mfor\u001b[39;00m user_id \u001b[38;5;129;01min\u001b[39;00m \u001b[43msimiliar_users\u001b[49m\u001b[43m.\u001b[49m\u001b[43msimliar_users\u001b[49m.values:\n\u001b[32m      7\u001b[39m     pref_list = get_user_preferences(\u001b[38;5;28mint\u001b[39m(user_id), rating_df, df)\n\u001b[32m      9\u001b[39m     pref_list = pref_list[~pref_list.eng_version.isin(user_pref.eng_version.values)]\n",
      "\u001b[31mAttributeError\u001b[39m: 'NoneType' object has no attribute 'simliar_users'"
     ]
    }
   ],
   "source": [
    "get_user_recommendations(similiar_users, user_pref, df, synopsis_df, rating_df, n=3)"
   ]
  },
  {
   "cell_type": "code",
   "execution_count": null,
   "id": "643bd392",
   "metadata": {},
   "outputs": [],
   "source": []
  },
  {
   "cell_type": "markdown",
   "id": "263194f0",
   "metadata": {},
   "source": [
    "### HYBRID RECOMMENDER SYSTEM"
   ]
  },
  {
   "cell_type": "code",
   "execution_count": null,
   "id": "18364278",
   "metadata": {},
   "outputs": [],
   "source": [
    "def hybrid_recommendation(user_id, user_weight=0.5, content_weight=0.5):\n",
    "\n",
    "    ### User Recommendation part....\n",
    "    similar_users = find_similar_users(user_id, user_weights, user2user_encoded, user2user_decoded)\n",
    "    user_pref = get_user_preferences(user_id, rating_df, df, plot= False)\n",
    "    user_recommended_animes= get_user_recommendations(similiar_users, user_pref, df, synopsis_df, rating_df, n=10)\n",
    "\n",
    "    \n",
    "\n",
    "    user_recommended_anime_list = user_recommended_animes[\"anime_name\"].tolist()\n",
    "    print(user_recommended_anime_list)\n",
    "\n",
    "    ##### Content Recommendation part....    \n",
    "\n",
    "    content_recommended_animes = []\n",
    "\n",
    "    for anime in user_recommended_anime_list:\n",
    "        similar_animes = find_similar_animes(anime, anime_weights, anime2anime_encoded,anime2anime_decoded, df, synopsis_df)\n",
    "\n",
    "        if similar_animes is not None and not similar_animes.empty:\n",
    "            content_recommended_animes.extend(similar_animes[\"name\"].tolist())\n",
    "        else:\n",
    "            print(f\"No similar anime found {anime}\")\n",
    "\n",
    "    combined_scores = {}\n",
    "\n",
    "    for anime in user_recommended_anime_list:\n",
    "        combined_scores[anime] = combined_scores.get(anime,0) + user_weight\n",
    "\n",
    "    for anime in content_recommended_animes:\n",
    "        combined_scores[anime] = combined_scores.get(anime, 0) + content_weight\n",
    "    \n",
    "    sorted_animes = sorted(combined_scores.items(), key=lambda x:x[1], reverse=True)\n",
    "\n",
    "    return [anime for anime, score in sorted_animes[:10]]\n",
    "\n",
    "\n",
    "\n",
    "\n",
    "\n",
    "\n",
    "\n",
    "\n"
   ]
  },
  {
   "cell_type": "code",
   "execution_count": null,
   "id": "e38369e7",
   "metadata": {},
   "outputs": [],
   "source": [
    "hybrid_recommendation(11880)"
   ]
  },
  {
   "cell_type": "code",
   "execution_count": null,
   "id": "0da22dc7",
   "metadata": {},
   "outputs": [],
   "source": []
  },
  {
   "cell_type": "code",
   "execution_count": null,
   "id": "b5ffba6b",
   "metadata": {},
   "outputs": [],
   "source": []
  },
  {
   "cell_type": "code",
   "execution_count": null,
   "id": "03be83fe",
   "metadata": {},
   "outputs": [],
   "source": []
  },
  {
   "cell_type": "code",
   "execution_count": null,
   "id": "0dd9a850",
   "metadata": {},
   "outputs": [],
   "source": []
  },
  {
   "cell_type": "code",
   "execution_count": null,
   "id": "47d7322d",
   "metadata": {},
   "outputs": [],
   "source": []
  },
  {
   "cell_type": "code",
   "execution_count": null,
   "id": "25d5a028",
   "metadata": {},
   "outputs": [],
   "source": []
  },
  {
   "cell_type": "code",
   "execution_count": null,
   "id": "92452f3e",
   "metadata": {},
   "outputs": [],
   "source": []
  },
  {
   "cell_type": "code",
   "execution_count": null,
   "id": "54eec627",
   "metadata": {},
   "outputs": [],
   "source": []
  }
 ],
 "metadata": {
  "kernelspec": {
   "display_name": "venv (3.11.4)",
   "language": "python",
   "name": "python3"
  },
  "language_info": {
   "codemirror_mode": {
    "name": "ipython",
    "version": 3
   },
   "file_extension": ".py",
   "mimetype": "text/x-python",
   "name": "python",
   "nbconvert_exporter": "python",
   "pygments_lexer": "ipython3",
   "version": "3.11.4"
  }
 },
 "nbformat": 4,
 "nbformat_minor": 5
}
